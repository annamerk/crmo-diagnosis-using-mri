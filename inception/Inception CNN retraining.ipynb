{
 "cells": [
  {
   "cell_type": "code",
   "execution_count": 2,
   "metadata": {
    "collapsed": false
   },
   "outputs": [],
   "source": [
    "import cv2\n",
    "import numpy as np\n",
    "import pandas as pd\n",
    "import os\n",
    "import glob\n",
    "import re\n",
    "import pickle\n",
    "from matplotlib import pyplot as plt\n",
    "import sklearn\n",
    "from sklearn import datasets, neighbors, linear_model, model_selection, svm\n",
    "from sklearn.model_selection import train_test_split,KFold,learning_curve, LeavePOut,GridSearchCV\n",
    "\n",
    "%matplotlib inline"
   ]
  },
  {
   "cell_type": "code",
   "execution_count": 3,
   "metadata": {
    "collapsed": false
   },
   "outputs": [
    {
     "name": "stderr",
     "output_type": "stream",
     "text": [
      "/home/anna.merkoulovitch/crmo-diagnosis-using-mri/src/utils.py:5: UserWarning: matplotlib.pyplot as already been imported, this call will have no effect.\n",
      "  matplotlib.use(\"TkAgg\")\n"
     ]
    }
   ],
   "source": [
    "import sys\n",
    "module_path = os.path.abspath(os.path.join('..'))\n",
    "if module_path not in sys.path:\n",
    "    sys.path.append(module_path)\n",
    "\n",
    "import src.utils as utils"
   ]
  },
  {
   "cell_type": "markdown",
   "metadata": {},
   "source": [
    "## Feature Extraction"
   ]
  },
  {
   "cell_type": "markdown",
   "metadata": {},
   "source": [
    "### Load Existing Data"
   ]
  },
  {
   "cell_type": "code",
   "execution_count": 4,
   "metadata": {
    "collapsed": true
   },
   "outputs": [],
   "source": [
    "def load_data(pickle_file):\n",
    "    data = pd.read_pickle(pickle_file)\n",
    "    # Split the data into training set and test set.\n",
    "    # DONT look at what is in the test set\n",
    "    test_patient_ids = ['2','32','24','24b','6','7', '41']\n",
    "    test_data = data.loc[test_patient_ids]\n",
    "    train_data = data.loc[data.index.difference(test_patient_ids)]\n",
    "    return train_data, test_data"
   ]
  },
  {
   "cell_type": "code",
   "execution_count": 5,
   "metadata": {
    "collapsed": true
   },
   "outputs": [],
   "source": [
    "train_inception_concat, test_inception_concat = load_data('data_inception_cnn.pkl')"
   ]
  },
  {
   "cell_type": "code",
   "execution_count": 6,
   "metadata": {
    "collapsed": false
   },
   "outputs": [],
   "source": [
    "train_inception_diff, test_inception_diff = load_data('data_inception_cnn_diff.pkl')"
   ]
  },
  {
   "cell_type": "code",
   "execution_count": 7,
   "metadata": {
    "collapsed": true
   },
   "outputs": [],
   "source": [
    "train_reduced_dim, test_reduced_dim = load_data(\"data_inception_cnn_diff_reduced_dim.pkl\")"
   ]
  },
  {
   "cell_type": "code",
   "execution_count": 8,
   "metadata": {
    "collapsed": true
   },
   "outputs": [],
   "source": [
    "train_reduced_dim_aug, test_reduced_dim_aug = load_data(\"data_inception_cnn_diff_reduced_dim_augmented.pkl\")"
   ]
  },
  {
   "cell_type": "markdown",
   "metadata": {},
   "source": [
    "#### Baseline"
   ]
  },
  {
   "cell_type": "markdown",
   "metadata": {},
   "source": [
    "This baseline builds a feature set by pulling pairs of images and creating a difference of the image histograms they produce. The assumption is that files are contained in some input directory in the form patientX-1.jpg, patientX-2.jpg"
   ]
  },
  {
   "cell_type": "code",
   "execution_count": 9,
   "metadata": {
    "collapsed": false
   },
   "outputs": [],
   "source": [
    "X_concat = train_inception_concat.drop('y', axis=1)\n",
    "y_concat = train_inception_concat[\"y\"]\n",
    "\n",
    "X_diff = train_inception_diff.drop('y', axis=1)\n",
    "y_diff = train_inception_diff[\"y\"]\n",
    "\n",
    "X_reduced = train_reduced_dim.drop('y', axis=1)\n",
    "y_reduced = train_reduced_dim[\"y\"]\n",
    "\n",
    "X_reduced_aug = train_reduced_dim_aug.drop('y', axis=1)\n",
    "y_reduced_aug = train_reduced_dim_aug[\"y\"]"
   ]
  },
  {
   "cell_type": "code",
   "execution_count": 47,
   "metadata": {
    "collapsed": false
   },
   "outputs": [
    {
     "data": {
      "image/png": "[encoded data removed]",
      "text/plain": [
       "<Figure size 600x400 with 1 Axes>"
      ]
     },
     "metadata": {},
     "output_type": "display_data"
    }
   ],
   "source": [
    "# Plot distribution of datapoints\n",
    "# Suvadip suggested trying a binary classifier by combining regressed and persistent into one class.\n",
    "# Then use ROC curve (used in binary classification) to evaluate model\n",
    "plt.title('Distribution of classes in training set')\n",
    "plt.ylabel('Classification')\n",
    "ind = np.arange(3)\n",
    "plt.xticks(ind, ('Persistent', 'Regressed','Improved'))\n",
    "plt.hist(y_diff.tolist())\n",
    "plt.show()"
   ]
  },
  {
   "cell_type": "code",
   "execution_count": 15,
   "metadata": {
    "collapsed": false
   },
   "outputs": [],
   "source": [
    "# This is based on recommendation from Suvadip. Leave one out is used for VERY small samples (size 15-20)\n",
    "lpo = LeavePOut(3)"
   ]
  },
  {
   "cell_type": "markdown",
   "metadata": {},
   "source": [
    "### KNN Classifier"
   ]
  },
  {
   "cell_type": "code",
   "execution_count": 10,
   "metadata": {
    "collapsed": false
   },
   "outputs": [],
   "source": [
    "def train_knn(X, y, multiclass, cv=LeavePOut(3), test_size=0.3):\n",
    "    params = [{'n_neighbors': [2,3,4,5,6]}]\n",
    "    knn = GridSearchCV(neighbors.KNeighborsClassifier(), cv=cv, param_grid = params)\n",
    "    utils.do_CV(X,y, knn, multi_class=multiclass, test_size=test_size)\n",
    "    return knn"
   ]
  },
  {
   "cell_type": "code",
   "execution_count": 12,
   "metadata": {
    "collapsed": false
   },
   "outputs": [
    {
     "name": "stdout",
     "output_type": "stream",
     "text": [
      "# Tuning hyper-parameter\n",
      "\n",
      "Best parameters set found on development set:\n",
      "\n",
      "{'n_neighbors': 4}\n",
      "\n",
      "Grid scores on development set:\n",
      "\n",
      "0.487 (+/-0.263) for {'n_neighbors': 2}\n",
      "0.513 (+/-0.257) for {'n_neighbors': 3}\n",
      "0.538 (+/-0.210) for {'n_neighbors': 4}\n",
      "0.526 (+/-0.374) for {'n_neighbors': 5}\n",
      "0.487 (+/-0.257) for {'n_neighbors': 6}\n",
      "\n",
      "Detailed classification report:\n",
      "\n",
      "The model is trained on the full development set.\n",
      "The scores are computed on the full evaluation set.\n",
      "\n",
      "             precision    recall  f1-score   support\n",
      "\n",
      "          I       0.80      0.57      0.67         7\n",
      "          R       0.50      0.71      0.59         7\n",
      "          S       0.20      0.17      0.18         6\n",
      "\n",
      "avg / total       0.52      0.50      0.49        20\n",
      "\n",
      "\n",
      "This is the classification report for the training set:\n",
      "             precision    recall  f1-score   support\n",
      "\n",
      "          I       0.56      0.85      0.68        26\n",
      "          R       0.70      0.62      0.65        26\n",
      "          S       0.81      0.50      0.62        26\n",
      "\n",
      "avg / total       0.69      0.65      0.65        78\n",
      "\n"
     ]
    },
    {
     "data": {
      "text/plain": [
       "GridSearchCV(cv=7, error_score='raise',\n",
       "       estimator=KNeighborsClassifier(algorithm='auto', leaf_size=30, metric='minkowski',\n",
       "           metric_params=None, n_jobs=1, n_neighbors=5, p=2,\n",
       "           weights='uniform'),\n",
       "       fit_params={}, iid=True, n_jobs=1,\n",
       "       param_grid=[{'n_neighbors': [2, 3, 4, 5, 6]}],\n",
       "       pre_dispatch='2*n_jobs', refit=True, return_train_score=True,\n",
       "       scoring=None, verbose=0)"
      ]
     },
     "execution_count": 12,
     "metadata": {},
     "output_type": "execute_result"
    },
    {
     "data": {
      "image/png": "[encoded data removed]",
      "text/plain": [
       "<Figure size 600x400 with 2 Axes>"
      ]
     },
     "metadata": {},
     "output_type": "display_data"
    }
   ],
   "source": [
    "# after stratifying\n",
    "train_knn(X_reduced_aug, y_reduced_aug, multiclass=True, cv=7, test_size=0.2)"
   ]
  },
  {
   "cell_type": "code",
   "execution_count": 29,
   "metadata": {
    "collapsed": false
   },
   "outputs": [
    {
     "name": "stdout",
     "output_type": "stream",
     "text": [
      "# Tuning hyper-parameter\n",
      "\n",
      "Best parameters set found on development set:\n",
      "\n",
      "{'n_neighbors': 5}\n",
      "\n",
      "Grid scores on development set:\n",
      "\n",
      "0.355 (+/-0.545) for {'n_neighbors': 2}\n",
      "0.374 (+/-0.550) for {'n_neighbors': 3}\n",
      "0.437 (+/-0.565) for {'n_neighbors': 4}\n",
      "0.448 (+/-0.568) for {'n_neighbors': 5}\n",
      "0.393 (+/-0.553) for {'n_neighbors': 6}\n",
      "\n",
      "Detailed classification report:\n",
      "\n",
      "The model is trained on the full development set.\n",
      "The scores are computed on the full evaluation set.\n",
      "\n",
      "             precision    recall  f1-score   support\n",
      "\n",
      "          I       0.47      0.73      0.57        11\n",
      "          R       0.57      0.33      0.42        12\n",
      "          S       0.67      0.57      0.62         7\n",
      "\n",
      "avg / total       0.56      0.53      0.52        30\n",
      "\n",
      "\n",
      "This is the classification report for the training set:\n",
      "             precision    recall  f1-score   support\n",
      "\n",
      "          I       0.49      0.91      0.63        22\n",
      "          R       0.75      0.43      0.55        21\n",
      "          S       0.80      0.48      0.60        25\n",
      "\n",
      "avg / total       0.68      0.60      0.59        68\n",
      "\n"
     ]
    },
    {
     "data": {
      "text/plain": [
       "GridSearchCV(cv=LeavePOut(p=3), error_score='raise',\n",
       "       estimator=KNeighborsClassifier(algorithm='auto', leaf_size=30, metric='minkowski',\n",
       "           metric_params=None, n_jobs=1, n_neighbors=5, p=2,\n",
       "           weights='uniform'),\n",
       "       fit_params={}, iid=True, n_jobs=1,\n",
       "       param_grid=[{'n_neighbors': [2, 3, 4, 5, 6]}],\n",
       "       pre_dispatch='2*n_jobs', refit=True, return_train_score=True,\n",
       "       scoring=None, verbose=0)"
      ]
     },
     "execution_count": 29,
     "metadata": {},
     "output_type": "execute_result"
    },
    {
     "data": {
      "image/png": "[encoded data removed]",
      "text/plain": [
       "<Figure size 600x400 with 2 Axes>"
      ]
     },
     "metadata": {},
     "output_type": "display_data"
    }
   ],
   "source": [
    "train_knn(X_reduced_aug, y_reduced_aug, True)"
   ]
  },
  {
   "cell_type": "code",
   "execution_count": 20,
   "metadata": {
    "collapsed": false
   },
   "outputs": [
    {
     "name": "stdout",
     "output_type": "stream",
     "text": [
      "# Tuning hyper-parameter\n",
      "\n",
      "Best parameters set found on development set:\n",
      "\n",
      "{'n_neighbors': 2}\n",
      "\n",
      "Grid scores on development set:\n",
      "\n",
      "0.724 (+/-0.500) for {'n_neighbors': 2}\n",
      "0.639 (+/-0.519) for {'n_neighbors': 3}\n",
      "0.622 (+/-0.539) for {'n_neighbors': 4}\n",
      "0.600 (+/-0.544) for {'n_neighbors': 5}\n",
      "0.534 (+/-0.564) for {'n_neighbors': 6}\n",
      "\n",
      "Detailed classification report:\n",
      "\n",
      "The model is trained on the full development set.\n",
      "The scores are computed on the full evaluation set.\n",
      "\n",
      "             precision    recall  f1-score   support\n",
      "\n",
      "          I       1.00      0.67      0.80        12\n",
      "          R       0.20      1.00      0.33         1\n",
      "          S       0.00      0.00      0.00         2\n",
      "\n",
      "avg / total       0.81      0.60      0.66        15\n",
      "\n",
      "\n",
      "This is the classification report for the training set:\n",
      "             precision    recall  f1-score   support\n",
      "\n",
      "          I       0.77      1.00      0.87        17\n",
      "          R       0.67      0.67      0.67         3\n",
      "          S       1.00      0.64      0.78        14\n",
      "\n",
      "avg / total       0.86      0.82      0.82        34\n",
      "\n"
     ]
    },
    {
     "data": {
      "text/plain": [
       "GridSearchCV(cv=LeavePOut(p=3), error_score='raise',\n",
       "       estimator=KNeighborsClassifier(algorithm='auto', leaf_size=30, metric='minkowski',\n",
       "           metric_params=None, n_jobs=1, n_neighbors=5, p=2,\n",
       "           weights='uniform'),\n",
       "       fit_params={}, iid=True, n_jobs=1,\n",
       "       param_grid=[{'n_neighbors': [2, 3, 4, 5, 6]}],\n",
       "       pre_dispatch='2*n_jobs', refit=True, return_train_score=True,\n",
       "       scoring=None, verbose=0)"
      ]
     },
     "execution_count": 20,
     "metadata": {},
     "output_type": "execute_result"
    },
    {
     "data": {
      "image/png": "[encoded data removed]",
      "text/plain": [
       "<Figure size 600x400 with 2 Axes>"
      ]
     },
     "metadata": {},
     "output_type": "display_data"
    }
   ],
   "source": [
    "# EXTRA REDUCED\n",
    "train_knn(X_reduced, y_reduced, True)"
   ]
  },
  {
   "cell_type": "code",
   "execution_count": 25,
   "metadata": {
    "collapsed": false
   },
   "outputs": [
    {
     "name": "stdout",
     "output_type": "stream",
     "text": [
      "# Tuning hyper-parameter\n",
      "\n",
      "Best parameters set found on development set:\n",
      "\n",
      "{'n_neighbors': 2}\n",
      "\n",
      "Grid scores on development set:\n",
      "\n",
      "0.673 (+/-0.528) for {'n_neighbors': 2}\n",
      "0.611 (+/-0.544) for {'n_neighbors': 3}\n",
      "0.619 (+/-0.541) for {'n_neighbors': 4}\n",
      "0.588 (+/-0.554) for {'n_neighbors': 5}\n",
      "0.617 (+/-0.543) for {'n_neighbors': 6}\n",
      "\n",
      "Detailed classification report:\n",
      "\n",
      "The model is trained on the full development set.\n",
      "The scores are computed on the full evaluation set.\n",
      "\n",
      "             precision    recall  f1-score   support\n",
      "\n",
      "          I       0.80      0.67      0.73        12\n",
      "          R       0.25      1.00      0.40         1\n",
      "          S       0.00      0.00      0.00         2\n",
      "\n",
      "avg / total       0.66      0.60      0.61        15\n",
      "\n",
      "\n",
      "This is the classification report for the training set:\n",
      "             precision    recall  f1-score   support\n",
      "\n",
      "          I       0.74      1.00      0.85        17\n",
      "          R       0.67      0.67      0.67         3\n",
      "          S       1.00      0.57      0.73        14\n",
      "\n",
      "avg / total       0.84      0.79      0.78        34\n",
      "\n"
     ]
    },
    {
     "data": {
      "text/plain": [
       "GridSearchCV(cv=LeavePOut(p=3), error_score='raise',\n",
       "       estimator=KNeighborsClassifier(algorithm='auto', leaf_size=30, metric='minkowski',\n",
       "           metric_params=None, n_jobs=1, n_neighbors=5, p=2,\n",
       "           weights='uniform'),\n",
       "       fit_params={}, iid=True, n_jobs=1,\n",
       "       param_grid=[{'n_neighbors': [2, 3, 4, 5, 6]}],\n",
       "       pre_dispatch='2*n_jobs', refit=True, return_train_score=True,\n",
       "       scoring=None, verbose=0)"
      ]
     },
     "execution_count": 25,
     "metadata": {},
     "output_type": "execute_result"
    },
    {
     "data": {
      "image/png": "[encoded data removed]",
      "text/plain": [
       "<Figure size 600x400 with 2 Axes>"
      ]
     },
     "metadata": {},
     "output_type": "display_data"
    }
   ],
   "source": [
    "train_knn(X_reduced, y_reduced, True)"
   ]
  },
  {
   "cell_type": "code",
   "execution_count": 14,
   "metadata": {
    "collapsed": false
   },
   "outputs": [
    {
     "name": "stdout",
     "output_type": "stream",
     "text": [
      "# Tuning hyper-parameter\n",
      "\n",
      "Best parameters set found on development set:\n",
      "\n",
      "{'n_neighbors': 2}\n",
      "\n",
      "Grid scores on development set:\n",
      "\n",
      "0.690 (+/-0.529) for {'n_neighbors': 2}\n",
      "0.659 (+/-0.526) for {'n_neighbors': 3}\n",
      "0.641 (+/-0.544) for {'n_neighbors': 4}\n",
      "0.606 (+/-0.540) for {'n_neighbors': 5}\n",
      "0.584 (+/-0.547) for {'n_neighbors': 6}\n",
      "\n",
      "Detailed classification report:\n",
      "\n",
      "The model is trained on the full development set.\n",
      "The scores are computed on the full evaluation set.\n",
      "\n",
      "             precision    recall  f1-score   support\n",
      "\n",
      "          I       0.82      0.75      0.78        12\n",
      "          R       0.33      1.00      0.50         1\n",
      "          S       0.00      0.00      0.00         2\n",
      "\n",
      "avg / total       0.68      0.67      0.66        15\n",
      "\n",
      "\n",
      "This is the classification report for the training set:\n",
      "             precision    recall  f1-score   support\n",
      "\n",
      "          I       0.77      1.00      0.87        17\n",
      "          R       0.67      0.67      0.67         3\n",
      "          S       1.00      0.64      0.78        14\n",
      "\n",
      "avg / total       0.86      0.82      0.82        34\n",
      "\n"
     ]
    },
    {
     "data": {
      "text/plain": [
       "GridSearchCV(cv=LeavePOut(p=3), error_score='raise',\n",
       "       estimator=KNeighborsClassifier(algorithm='auto', leaf_size=30, metric='minkowski',\n",
       "           metric_params=None, n_jobs=1, n_neighbors=5, p=2,\n",
       "           weights='uniform'),\n",
       "       fit_params={}, iid=True, n_jobs=1,\n",
       "       param_grid=[{'n_neighbors': [2, 3, 4, 5, 6]}],\n",
       "       pre_dispatch='2*n_jobs', refit=True, return_train_score=True,\n",
       "       scoring=None, verbose=0)"
      ]
     },
     "execution_count": 14,
     "metadata": {},
     "output_type": "execute_result"
    },
    {
     "data": {
      "image/png": "[encoded data removed]",
      "text/plain": [
       "<Figure size 600x400 with 2 Axes>"
      ]
     },
     "metadata": {},
     "output_type": "display_data"
    }
   ],
   "source": [
    "train_knn(X_diff, y_diff, True)"
   ]
  },
  {
   "cell_type": "code",
   "execution_count": 45,
   "metadata": {
    "collapsed": false
   },
   "outputs": [
    {
     "name": "stdout",
     "output_type": "stream",
     "text": [
      "# Tuning hyper-parameter\n",
      "\n",
      "Best parameters set found on development set:\n",
      "\n",
      "{'n_neighbors': 2}\n",
      "\n",
      "Grid scores on development set:\n",
      "\n",
      "0.593 (+/-0.564) for {'n_neighbors': 2}\n",
      "0.547 (+/-0.553) for {'n_neighbors': 3}\n",
      "0.495 (+/-0.554) for {'n_neighbors': 4}\n",
      "0.272 (+/-0.483) for {'n_neighbors': 5}\n",
      "0.322 (+/-0.513) for {'n_neighbors': 6}\n",
      "0.377 (+/-0.564) for {'n_neighbors': 7}\n",
      "0.319 (+/-0.517) for {'n_neighbors': 8}\n",
      "\n",
      "Detailed classification report:\n",
      "\n",
      "The model is trained on the full development set.\n",
      "The scores are computed on the full evaluation set.\n",
      "\n",
      "             precision    recall  f1-score   support\n",
      "\n",
      "          I       0.75      0.50      0.60        12\n",
      "          R       0.33      1.00      0.50         1\n",
      "          S       0.00      0.00      0.00         2\n",
      "\n",
      "avg / total       0.62      0.47      0.51        15\n",
      "\n",
      "[[6 2 4]\n",
      " [0 1 0]\n",
      " [2 0 0]]\n",
      "\n"
     ]
    },
    {
     "data": {
      "text/plain": [
       "GridSearchCV(cv=LeavePOut(p=3), error_score='raise',\n",
       "       estimator=KNeighborsClassifier(algorithm='auto', leaf_size=30, metric='minkowski',\n",
       "           metric_params=None, n_jobs=1, n_neighbors=5, p=2,\n",
       "           weights='uniform'),\n",
       "       fit_params={}, iid=True, n_jobs=1,\n",
       "       param_grid=[{'n_neighbors': [2, 3, 4, 5, 6, 7, 8]}],\n",
       "       pre_dispatch='2*n_jobs', refit=True, return_train_score=True,\n",
       "       scoring=None, verbose=0)"
      ]
     },
     "execution_count": 45,
     "metadata": {},
     "output_type": "execute_result"
    },
    {
     "data": {
      "image/png": "[encoded data removed]",
      "text/plain": [
       "<Figure size 600x400 with 2 Axes>"
      ]
     },
     "metadata": {},
     "output_type": "display_data"
    }
   ],
   "source": [
    "train_knn(X_concat, y_concat, True)"
   ]
  },
  {
   "cell_type": "markdown",
   "metadata": {},
   "source": [
    "### KNN binary"
   ]
  },
  {
   "cell_type": "code",
   "execution_count": 16,
   "metadata": {
    "collapsed": false
   },
   "outputs": [
    {
     "name": "stdout",
     "output_type": "stream",
     "text": [
      "# Tuning hyper-parameter\n",
      "\n",
      "Best parameters set found on development set:\n",
      "\n",
      "{'n_neighbors': 3}\n",
      "\n",
      "Grid scores on development set:\n",
      "\n",
      "0.618 (+/-0.205) for {'n_neighbors': 2}\n",
      "0.691 (+/-0.225) for {'n_neighbors': 3}\n",
      "0.662 (+/-0.197) for {'n_neighbors': 4}\n",
      "0.588 (+/-0.226) for {'n_neighbors': 5}\n",
      "0.647 (+/-0.214) for {'n_neighbors': 6}\n",
      "\n",
      "Detailed classification report:\n",
      "\n",
      "The model is trained on the full development set.\n",
      "The scores are computed on the full evaluation set.\n",
      "\n",
      "             precision    recall  f1-score   support\n",
      "\n",
      "          I       0.33      0.40      0.36        10\n",
      "          R       0.67      0.60      0.63        20\n",
      "\n",
      "avg / total       0.56      0.53      0.54        30\n",
      "\n",
      "ROC AUC score\n",
      "0.5\n",
      "\n",
      "This is the classification report for the training set:\n",
      "             precision    recall  f1-score   support\n",
      "\n",
      "          I       0.90      0.78      0.84        23\n",
      "          R       0.90      0.96      0.92        45\n",
      "\n",
      "avg / total       0.90      0.90      0.90        68\n",
      "\n"
     ]
    },
    {
     "data": {
      "text/plain": [
       "GridSearchCV(cv=5, error_score='raise',\n",
       "       estimator=KNeighborsClassifier(algorithm='auto', leaf_size=30, metric='minkowski',\n",
       "           metric_params=None, n_jobs=1, n_neighbors=5, p=2,\n",
       "           weights='uniform'),\n",
       "       fit_params={}, iid=True, n_jobs=1,\n",
       "       param_grid=[{'n_neighbors': [2, 3, 4, 5, 6]}],\n",
       "       pre_dispatch='2*n_jobs', refit=True, return_train_score=True,\n",
       "       scoring=None, verbose=0)"
      ]
     },
     "execution_count": 16,
     "metadata": {},
     "output_type": "execute_result"
    },
    {
     "data": {
      "image/png": "[encoded data removed]",
      "text/plain": [
       "<Figure size 600x400 with 2 Axes>"
      ]
     },
     "metadata": {},
     "output_type": "display_data"
    }
   ],
   "source": [
    "train_knn(X_reduced_aug, y_reduced_aug, multiclass=False, cv=5, test_size=0.3) # BAD MODEL"
   ]
  },
  {
   "cell_type": "code",
   "execution_count": 36,
   "metadata": {
    "collapsed": false
   },
   "outputs": [
    {
     "name": "stdout",
     "output_type": "stream",
     "text": [
      "# Tuning hyper-parameter\n",
      "\n",
      "Best parameters set found on development set:\n",
      "\n",
      "{'n_neighbors': 5}\n",
      "\n",
      "Grid scores on development set:\n",
      "\n",
      "0.472 (+/-0.570) for {'n_neighbors': 2}\n",
      "0.592 (+/-0.558) for {'n_neighbors': 3}\n",
      "0.557 (+/-0.572) for {'n_neighbors': 4}\n",
      "0.626 (+/-0.553) for {'n_neighbors': 5}\n",
      "0.535 (+/-0.567) for {'n_neighbors': 6}\n",
      "\n",
      "Detailed classification report:\n",
      "\n",
      "The model is trained on the full development set.\n",
      "The scores are computed on the full evaluation set.\n",
      "\n",
      "             precision    recall  f1-score   support\n",
      "\n",
      "          I       0.56      0.45      0.50        11\n",
      "          R       0.71      0.79      0.75        19\n",
      "\n",
      "avg / total       0.66      0.67      0.66        30\n",
      "\n",
      "ROC AUC score\n",
      "0.622009569378\n",
      "\n",
      "This is the classification report for the training set:\n",
      "             precision    recall  f1-score   support\n",
      "\n",
      "          I       0.65      0.77      0.71        22\n",
      "          R       0.88      0.80      0.84        46\n",
      "\n",
      "avg / total       0.81      0.79      0.80        68\n",
      "\n"
     ]
    },
    {
     "data": {
      "text/plain": [
       "GridSearchCV(cv=LeavePOut(p=3), error_score='raise',\n",
       "       estimator=KNeighborsClassifier(algorithm='auto', leaf_size=30, metric='minkowski',\n",
       "           metric_params=None, n_jobs=1, n_neighbors=5, p=2,\n",
       "           weights='uniform'),\n",
       "       fit_params={}, iid=True, n_jobs=1,\n",
       "       param_grid=[{'n_neighbors': [2, 3, 4, 5, 6]}],\n",
       "       pre_dispatch='2*n_jobs', refit=True, return_train_score=True,\n",
       "       scoring=None, verbose=0)"
      ]
     },
     "execution_count": 36,
     "metadata": {},
     "output_type": "execute_result"
    },
    {
     "data": {
      "image/png": "[encoded data removed]",
      "text/plain": [
       "<Figure size 600x400 with 2 Axes>"
      ]
     },
     "metadata": {},
     "output_type": "display_data"
    }
   ],
   "source": [
    "train_knn(X_reduced_aug, y_reduced_aug, False)"
   ]
  },
  {
   "cell_type": "code",
   "execution_count": 26,
   "metadata": {
    "collapsed": false
   },
   "outputs": [
    {
     "name": "stdout",
     "output_type": "stream",
     "text": [
      "# Tuning hyper-parameter\n",
      "\n",
      "Best parameters set found on development set:\n",
      "\n",
      "{'n_neighbors': 2}\n",
      "\n",
      "Grid scores on development set:\n",
      "\n",
      "0.752 (+/-0.478) for {'n_neighbors': 2}\n",
      "0.727 (+/-0.481) for {'n_neighbors': 3}\n",
      "0.701 (+/-0.519) for {'n_neighbors': 4}\n",
      "0.682 (+/-0.521) for {'n_neighbors': 5}\n",
      "0.586 (+/-0.562) for {'n_neighbors': 6}\n",
      "\n",
      "Detailed classification report:\n",
      "\n",
      "The model is trained on the full development set.\n",
      "The scores are computed on the full evaluation set.\n",
      "\n",
      "             precision    recall  f1-score   support\n",
      "\n",
      "          I       1.00      0.67      0.80        12\n",
      "          R       0.43      1.00      0.60         3\n",
      "\n",
      "avg / total       0.89      0.73      0.76        15\n",
      "\n",
      "ROC AUC score\n",
      "0.833333333333\n",
      "\n",
      "This is the classification report for the training set:\n",
      "             precision    recall  f1-score   support\n",
      "\n",
      "          I       0.77      1.00      0.87        17\n",
      "          R       1.00      0.71      0.83        17\n",
      "\n",
      "avg / total       0.89      0.85      0.85        34\n",
      "\n"
     ]
    },
    {
     "data": {
      "text/plain": [
       "GridSearchCV(cv=LeavePOut(p=3), error_score='raise',\n",
       "       estimator=KNeighborsClassifier(algorithm='auto', leaf_size=30, metric='minkowski',\n",
       "           metric_params=None, n_jobs=1, n_neighbors=5, p=2,\n",
       "           weights='uniform'),\n",
       "       fit_params={}, iid=True, n_jobs=1,\n",
       "       param_grid=[{'n_neighbors': [2, 3, 4, 5, 6]}],\n",
       "       pre_dispatch='2*n_jobs', refit=True, return_train_score=True,\n",
       "       scoring=None, verbose=0)"
      ]
     },
     "execution_count": 26,
     "metadata": {},
     "output_type": "execute_result"
    },
    {
     "data": {
      "image/png": "[encoded data removed]",
      "text/plain": [
       "<Figure size 600x400 with 2 Axes>"
      ]
     },
     "metadata": {},
     "output_type": "display_data"
    }
   ],
   "source": [
    "# extra reduced\n",
    "train_knn(X_reduced, y_reduced, False)"
   ]
  },
  {
   "cell_type": "code",
   "execution_count": 26,
   "metadata": {
    "collapsed": false
   },
   "outputs": [
    {
     "name": "stdout",
     "output_type": "stream",
     "text": [
      "# Tuning hyper-parameter\n",
      "\n",
      "Best parameters set found on development set:\n",
      "\n",
      "{'n_neighbors': 2}\n",
      "\n",
      "Grid scores on development set:\n",
      "\n",
      "0.675 (+/-0.524) for {'n_neighbors': 2}\n",
      "0.647 (+/-0.540) for {'n_neighbors': 3}\n",
      "0.652 (+/-0.534) for {'n_neighbors': 4}\n",
      "0.647 (+/-0.546) for {'n_neighbors': 5}\n",
      "0.651 (+/-0.537) for {'n_neighbors': 6}\n",
      "\n",
      "Detailed classification report:\n",
      "\n",
      "The model is trained on the full development set.\n",
      "The scores are computed on the full evaluation set.\n",
      "\n",
      "             precision    recall  f1-score   support\n",
      "\n",
      "          I       0.80      0.67      0.73        12\n",
      "          R       0.20      0.33      0.25         3\n",
      "\n",
      "avg / total       0.68      0.60      0.63        15\n",
      "\n",
      "ROC AUC score\n",
      "0.5\n",
      "\n",
      "This is the classification report for the training set:\n",
      "             precision    recall  f1-score   support\n",
      "\n",
      "          I       0.74      1.00      0.85        17\n",
      "          R       1.00      0.65      0.79        17\n",
      "\n",
      "avg / total       0.87      0.82      0.82        34\n",
      "\n"
     ]
    },
    {
     "data": {
      "text/plain": [
       "GridSearchCV(cv=LeavePOut(p=3), error_score='raise',\n",
       "       estimator=KNeighborsClassifier(algorithm='auto', leaf_size=30, metric='minkowski',\n",
       "           metric_params=None, n_jobs=1, n_neighbors=5, p=2,\n",
       "           weights='uniform'),\n",
       "       fit_params={}, iid=True, n_jobs=1,\n",
       "       param_grid=[{'n_neighbors': [2, 3, 4, 5, 6]}],\n",
       "       pre_dispatch='2*n_jobs', refit=True, return_train_score=True,\n",
       "       scoring=None, verbose=0)"
      ]
     },
     "execution_count": 26,
     "metadata": {},
     "output_type": "execute_result"
    },
    {
     "data": {
      "image/png": "[encoded data removed]",
      "text/plain": [
       "<Figure size 600x400 with 2 Axes>"
      ]
     },
     "metadata": {},
     "output_type": "display_data"
    }
   ],
   "source": [
    "train_knn(X_reduced, y_reduced, False)"
   ]
  },
  {
   "cell_type": "code",
   "execution_count": 16,
   "metadata": {
    "collapsed": false
   },
   "outputs": [
    {
     "name": "stdout",
     "output_type": "stream",
     "text": [
      "# Tuning hyper-parameter\n",
      "\n",
      "Best parameters set found on development set:\n",
      "\n",
      "{'n_neighbors': 2}\n",
      "\n",
      "Grid scores on development set:\n",
      "\n",
      "0.699 (+/-0.514) for {'n_neighbors': 2}\n",
      "0.695 (+/-0.518) for {'n_neighbors': 3}\n",
      "0.671 (+/-0.534) for {'n_neighbors': 4}\n",
      "0.665 (+/-0.524) for {'n_neighbors': 5}\n",
      "0.636 (+/-0.536) for {'n_neighbors': 6}\n",
      "\n",
      "Detailed classification report:\n",
      "\n",
      "The model is trained on the full development set.\n",
      "The scores are computed on the full evaluation set.\n",
      "\n",
      "             precision    recall  f1-score   support\n",
      "\n",
      "          I       0.82      0.75      0.78        12\n",
      "          R       0.25      0.33      0.29         3\n",
      "\n",
      "avg / total       0.70      0.67      0.68        15\n",
      "\n",
      "ROC AUC score\n",
      "0.541666666667\n",
      "\n",
      "This is the classification report for the training set:\n",
      "             precision    recall  f1-score   support\n",
      "\n",
      "          I       0.77      1.00      0.87        17\n",
      "          R       1.00      0.71      0.83        17\n",
      "\n",
      "avg / total       0.89      0.85      0.85        34\n",
      "\n"
     ]
    },
    {
     "data": {
      "text/plain": [
       "GridSearchCV(cv=LeavePOut(p=3), error_score='raise',\n",
       "       estimator=KNeighborsClassifier(algorithm='auto', leaf_size=30, metric='minkowski',\n",
       "           metric_params=None, n_jobs=1, n_neighbors=5, p=2,\n",
       "           weights='uniform'),\n",
       "       fit_params={}, iid=True, n_jobs=1,\n",
       "       param_grid=[{'n_neighbors': [2, 3, 4, 5, 6]}],\n",
       "       pre_dispatch='2*n_jobs', refit=True, return_train_score=True,\n",
       "       scoring=None, verbose=0)"
      ]
     },
     "execution_count": 16,
     "metadata": {},
     "output_type": "execute_result"
    },
    {
     "data": {
      "image/png": "[encoded data removed]",
      "text/plain": [
       "<Figure size 600x400 with 2 Axes>"
      ]
     },
     "metadata": {},
     "output_type": "display_data"
    }
   ],
   "source": [
    "train_knn(X_diff, y_diff, False)"
   ]
  },
  {
   "cell_type": "code",
   "execution_count": 15,
   "metadata": {
    "collapsed": false
   },
   "outputs": [
    {
     "name": "stdout",
     "output_type": "stream",
     "text": [
      "# Tuning hyper-parameter\n",
      "\n",
      "Best parameters set found on development set:\n",
      "\n",
      "{'n_neighbors': 2}\n",
      "\n",
      "Grid scores on development set:\n",
      "\n",
      "0.662 (+/-0.543) for {'n_neighbors': 2}\n",
      "0.652 (+/-0.543) for {'n_neighbors': 3}\n",
      "0.603 (+/-0.528) for {'n_neighbors': 4}\n",
      "0.433 (+/-0.529) for {'n_neighbors': 5}\n",
      "0.515 (+/-0.537) for {'n_neighbors': 6}\n",
      "\n",
      "Detailed classification report:\n",
      "\n",
      "The model is trained on the full development set.\n",
      "The scores are computed on the full evaluation set.\n",
      "\n",
      "             precision    recall  f1-score   support\n",
      "\n",
      "          I       0.75      0.50      0.60        12\n",
      "          R       0.14      0.33      0.20         3\n",
      "\n",
      "avg / total       0.63      0.47      0.52        15\n",
      "\n",
      "ROC AUC score\n",
      "0.416666666667\n",
      "\n",
      "This is the classification report for the training set:\n",
      "             precision    recall  f1-score   support\n",
      "\n",
      "          I       0.81      1.00      0.89        17\n",
      "          R       1.00      0.76      0.87        17\n",
      "\n",
      "avg / total       0.90      0.88      0.88        34\n",
      "\n"
     ]
    },
    {
     "data": {
      "text/plain": [
       "GridSearchCV(cv=LeavePOut(p=3), error_score='raise',\n",
       "       estimator=KNeighborsClassifier(algorithm='auto', leaf_size=30, metric='minkowski',\n",
       "           metric_params=None, n_jobs=1, n_neighbors=5, p=2,\n",
       "           weights='uniform'),\n",
       "       fit_params={}, iid=True, n_jobs=1,\n",
       "       param_grid=[{'n_neighbors': [2, 3, 4, 5, 6]}],\n",
       "       pre_dispatch='2*n_jobs', refit=True, return_train_score=True,\n",
       "       scoring=None, verbose=0)"
      ]
     },
     "execution_count": 15,
     "metadata": {},
     "output_type": "execute_result"
    },
    {
     "data": {
      "image/png": "[encoded data removed]",
      "text/plain": [
       "<Figure size 600x400 with 2 Axes>"
      ]
     },
     "metadata": {},
     "output_type": "display_data"
    }
   ],
   "source": [
    "train_knn(X_concat, y_concat, False)"
   ]
  },
  {
   "cell_type": "markdown",
   "metadata": {},
   "source": [
    "### Logistic Linear"
   ]
  },
  {
   "cell_type": "code",
   "execution_count": 25,
   "metadata": {
    "collapsed": true
   },
   "outputs": [],
   "source": [
    "def train_logistic(X,y, multiclass, cv=LeavePOut(3), test_size=0.3):\n",
    "    params = [{'penalty': ['l1','l2'], 'C': [0.001,0.01,0.1,1,10,100,1000]}]\n",
    "    lr = GridSearchCV(linear_model.LogisticRegression(solver='liblinear'), cv=cv, param_grid = params)\n",
    "    if multiclass:\n",
    "        params = [{'C': [0.001,0.01,0.1,1,10,100,1000]}]\n",
    "        lr = GridSearchCV(linear_model.LogisticRegression(solver='lbfgs', penalty='l2', multi_class=\"multinomial\", max_iter=3000), cv=cv, param_grid = params)\n",
    "    utils.do_CV(X,y, lr, multi_class=multiclass, test_size=test_size)\n",
    "    return lr"
   ]
  },
  {
   "cell_type": "code",
   "execution_count": 26,
   "metadata": {
    "collapsed": false
   },
   "outputs": [
    {
     "name": "stdout",
     "output_type": "stream",
     "text": [
      "# Tuning hyper-parameter\n",
      "\n",
      "Best parameters set found on development set:\n",
      "\n",
      "{'penalty': 'l1', 'C': 1}\n",
      "\n",
      "Grid scores on development set:\n",
      "\n",
      "0.333 (+/-0.047) for {'penalty': 'l1', 'C': 0.001}\n",
      "0.718 (+/-0.274) for {'penalty': 'l2', 'C': 0.001}\n",
      "0.333 (+/-0.047) for {'penalty': 'l1', 'C': 0.01}\n",
      "0.692 (+/-0.269) for {'penalty': 'l2', 'C': 0.01}\n",
      "0.667 (+/-0.047) for {'penalty': 'l1', 'C': 0.1}\n",
      "0.744 (+/-0.260) for {'penalty': 'l2', 'C': 0.1}\n",
      "0.782 (+/-0.288) for {'penalty': 'l1', 'C': 1}\n",
      "0.756 (+/-0.217) for {'penalty': 'l2', 'C': 1}\n",
      "0.756 (+/-0.181) for {'penalty': 'l1', 'C': 10}\n",
      "0.756 (+/-0.171) for {'penalty': 'l2', 'C': 10}\n",
      "0.782 (+/-0.143) for {'penalty': 'l1', 'C': 100}\n",
      "0.744 (+/-0.165) for {'penalty': 'l2', 'C': 100}\n",
      "0.769 (+/-0.173) for {'penalty': 'l1', 'C': 1000}\n",
      "0.744 (+/-0.165) for {'penalty': 'l2', 'C': 1000}\n",
      "\n",
      "Detailed classification report:\n",
      "\n",
      "The model is trained on the full development set.\n",
      "The scores are computed on the full evaluation set.\n",
      "\n",
      "             precision    recall  f1-score   support\n",
      "\n",
      "          I       0.62      0.71      0.67         7\n",
      "          R       0.83      0.77      0.80        13\n",
      "\n",
      "avg / total       0.76      0.75      0.75        20\n",
      "\n",
      "ROC AUC score\n",
      "0.741758241758\n",
      "\n",
      "This is the classification report for the training set:\n",
      "             precision    recall  f1-score   support\n",
      "\n",
      "          I       1.00      1.00      1.00        26\n",
      "          R       1.00      1.00      1.00        52\n",
      "\n",
      "avg / total       1.00      1.00      1.00        78\n",
      "\n"
     ]
    },
    {
     "data": {
      "image/png": "[encoded data removed]",
      "text/plain": [
       "<Figure size 600x400 with 2 Axes>"
      ]
     },
     "metadata": {},
     "output_type": "display_data"
    }
   ],
   "source": [
    "# AFTER STRATIFY\n",
    "lr = train_logistic(X_reduced_aug, y_reduced_aug, False, cv=7, test_size=0.2)\n",
    "pickle.dump(lr, open(\"lr_binary_reduced_model_aug.pkl\", \"wb\") )"
   ]
  },
  {
   "cell_type": "code",
   "execution_count": 34,
   "metadata": {
    "collapsed": false
   },
   "outputs": [
    {
     "name": "stdout",
     "output_type": "stream",
     "text": [
      "# Tuning hyper-parameter\n",
      "\n",
      "Best parameters set found on development set:\n",
      "\n",
      "{'C': 10, 'penalty': 'l1'}\n",
      "\n",
      "Grid scores on development set:\n",
      "\n",
      "0.324 (+/-0.047) for {'C': 0.001, 'penalty': 'l1'}\n",
      "0.647 (+/-0.210) for {'C': 0.001, 'penalty': 'l2'}\n",
      "0.324 (+/-0.047) for {'C': 0.01, 'penalty': 'l1'}\n",
      "0.676 (+/-0.278) for {'C': 0.01, 'penalty': 'l2'}\n",
      "0.500 (+/-0.356) for {'C': 0.1, 'penalty': 'l1'}\n",
      "0.662 (+/-0.269) for {'C': 0.1, 'penalty': 'l2'}\n",
      "0.706 (+/-0.218) for {'C': 1, 'penalty': 'l1'}\n",
      "0.691 (+/-0.187) for {'C': 1, 'penalty': 'l2'}\n",
      "0.750 (+/-0.225) for {'C': 10, 'penalty': 'l1'}\n",
      "0.721 (+/-0.296) for {'C': 10, 'penalty': 'l2'}\n",
      "0.750 (+/-0.229) for {'C': 100, 'penalty': 'l1'}\n",
      "0.735 (+/-0.287) for {'C': 100, 'penalty': 'l2'}\n",
      "0.750 (+/-0.225) for {'C': 1000, 'penalty': 'l1'}\n",
      "0.735 (+/-0.287) for {'C': 1000, 'penalty': 'l2'}\n",
      "\n",
      "Detailed classification report:\n",
      "\n",
      "The model is trained on the full development set.\n",
      "The scores are computed on the full evaluation set.\n",
      "\n",
      "             precision    recall  f1-score   support\n",
      "\n",
      "          I       0.60      0.27      0.37        11\n",
      "          R       0.68      0.89      0.77        19\n",
      "\n",
      "avg / total       0.65      0.67      0.63        30\n",
      "\n",
      "ROC AUC score\n",
      "0.583732057416\n",
      "\n",
      "This is the classification report for the training set:\n",
      "             precision    recall  f1-score   support\n",
      "\n",
      "          I       1.00      1.00      1.00        22\n",
      "          R       1.00      1.00      1.00        46\n",
      "\n",
      "avg / total       1.00      1.00      1.00        68\n",
      "\n"
     ]
    },
    {
     "data": {
      "image/png": "[encoded data removed]",
      "text/plain": [
       "<Figure size 600x400 with 2 Axes>"
      ]
     },
     "metadata": {},
     "output_type": "display_data"
    }
   ],
   "source": [
    "lr = train_logistic(X_reduced_aug, y_reduced_aug, False, 7)\n",
    "pickle.dump(lr, open(\"lr_binary_reduced_model_aug.pkl\", \"wb\") )"
   ]
  },
  {
   "cell_type": "code",
   "execution_count": 24,
   "metadata": {
    "collapsed": false
   },
   "outputs": [
    {
     "name": "stdout",
     "output_type": "stream",
     "text": [
      "# Tuning hyper-parameter\n",
      "\n",
      "Best parameters set found on development set:\n",
      "\n",
      "{'C': 1, 'penalty': 'l1'}\n",
      "\n",
      "Grid scores on development set:\n",
      "\n",
      "0.500 (+/-0.560) for {'C': 0.001, 'penalty': 'l1'}\n",
      "0.532 (+/-0.549) for {'C': 0.001, 'penalty': 'l2'}\n",
      "0.500 (+/-0.560) for {'C': 0.01, 'penalty': 'l1'}\n",
      "0.534 (+/-0.544) for {'C': 0.01, 'penalty': 'l2'}\n",
      "0.500 (+/-0.560) for {'C': 0.1, 'penalty': 'l1'}\n",
      "0.531 (+/-0.543) for {'C': 0.1, 'penalty': 'l2'}\n",
      "0.598 (+/-0.564) for {'C': 1, 'penalty': 'l1'}\n",
      "0.520 (+/-0.542) for {'C': 1, 'penalty': 'l2'}\n",
      "0.540 (+/-0.550) for {'C': 10, 'penalty': 'l1'}\n",
      "0.527 (+/-0.542) for {'C': 10, 'penalty': 'l2'}\n",
      "0.520 (+/-0.530) for {'C': 100, 'penalty': 'l1'}\n",
      "0.531 (+/-0.552) for {'C': 100, 'penalty': 'l2'}\n",
      "0.523 (+/-0.540) for {'C': 1000, 'penalty': 'l1'}\n",
      "0.536 (+/-0.560) for {'C': 1000, 'penalty': 'l2'}\n",
      "\n",
      "Detailed classification report:\n",
      "\n",
      "The model is trained on the full development set.\n",
      "The scores are computed on the full evaluation set.\n",
      "\n",
      "             precision    recall  f1-score   support\n",
      "\n",
      "          I       1.00      0.50      0.67        12\n",
      "          R       0.33      1.00      0.50         3\n",
      "\n",
      "avg / total       0.87      0.60      0.63        15\n",
      "\n",
      "ROC AUC score\n",
      "0.75\n",
      "\n",
      "This is the classification report for the training set:\n",
      "             precision    recall  f1-score   support\n",
      "\n",
      "          I       0.94      0.94      0.94        17\n",
      "          R       0.94      0.94      0.94        17\n",
      "\n",
      "avg / total       0.94      0.94      0.94        34\n",
      "\n"
     ]
    },
    {
     "data": {
      "image/png": "[encoded data removed]",
      "text/plain": [
       "<Figure size 600x400 with 2 Axes>"
      ]
     },
     "metadata": {},
     "output_type": "display_data"
    }
   ],
   "source": [
    "# extra reduced\n",
    "lr = train_logistic(X_reduced, y_reduced, False)\n",
    "pickle.dump(lr, open(\"lr_binary_reduced_model.pkl\", \"wb\") )"
   ]
  },
  {
   "cell_type": "code",
   "execution_count": 27,
   "metadata": {
    "collapsed": false
   },
   "outputs": [
    {
     "name": "stdout",
     "output_type": "stream",
     "text": [
      "# Tuning hyper-parameter\n",
      "\n",
      "Best parameters set found on development set:\n",
      "\n",
      "{'C': 1000, 'penalty': 'l2'}\n",
      "\n",
      "Grid scores on development set:\n",
      "\n",
      "0.500 (+/-0.560) for {'C': 0.001, 'penalty': 'l1'}\n",
      "0.578 (+/-0.561) for {'C': 0.001, 'penalty': 'l2'}\n",
      "0.500 (+/-0.560) for {'C': 0.01, 'penalty': 'l1'}\n",
      "0.597 (+/-0.551) for {'C': 0.01, 'penalty': 'l2'}\n",
      "0.500 (+/-0.560) for {'C': 0.1, 'penalty': 'l1'}\n",
      "0.576 (+/-0.544) for {'C': 0.1, 'penalty': 'l2'}\n",
      "0.549 (+/-0.525) for {'C': 1, 'penalty': 'l1'}\n",
      "0.583 (+/-0.544) for {'C': 1, 'penalty': 'l2'}\n",
      "0.543 (+/-0.508) for {'C': 10, 'penalty': 'l1'}\n",
      "0.594 (+/-0.546) for {'C': 10, 'penalty': 'l2'}\n",
      "0.566 (+/-0.538) for {'C': 100, 'penalty': 'l1'}\n",
      "0.605 (+/-0.549) for {'C': 100, 'penalty': 'l2'}\n",
      "0.594 (+/-0.540) for {'C': 1000, 'penalty': 'l1'}\n",
      "0.618 (+/-0.554) for {'C': 1000, 'penalty': 'l2'}\n",
      "\n",
      "Detailed classification report:\n",
      "\n",
      "The model is trained on the full development set.\n",
      "The scores are computed on the full evaluation set.\n",
      "\n",
      "             precision    recall  f1-score   support\n",
      "\n",
      "          I       0.88      0.58      0.70        12\n",
      "          R       0.29      0.67      0.40         3\n",
      "\n",
      "avg / total       0.76      0.60      0.64        15\n",
      "\n",
      "ROC AUC score\n",
      "0.625\n",
      "\n",
      "This is the classification report for the training set:\n",
      "             precision    recall  f1-score   support\n",
      "\n",
      "          I       1.00      1.00      1.00        17\n",
      "          R       1.00      1.00      1.00        17\n",
      "\n",
      "avg / total       1.00      1.00      1.00        34\n",
      "\n"
     ]
    },
    {
     "data": {
      "image/png": "[encoded data removed]",
      "text/plain": [
       "<Figure size 600x400 with 2 Axes>"
      ]
     },
     "metadata": {},
     "output_type": "display_data"
    }
   ],
   "source": [
    "lr = train_logistic(X_reduced, y_reduced, False)\n",
    "pickle.dump(lr, open(\"lr_binary_reduced_model.pkl\", \"wb\") )"
   ]
  },
  {
   "cell_type": "code",
   "execution_count": 18,
   "metadata": {
    "collapsed": false
   },
   "outputs": [
    {
     "name": "stdout",
     "output_type": "stream",
     "text": [
      "# Tuning hyper-parameter\n",
      "\n",
      "Best parameters set found on development set:\n",
      "\n",
      "{'C': 100, 'penalty': 'l1'}\n",
      "\n",
      "Grid scores on development set:\n",
      "\n",
      "0.500 (+/-0.560) for {'C': 0.001, 'penalty': 'l1'}\n",
      "0.588 (+/-0.561) for {'C': 0.001, 'penalty': 'l2'}\n",
      "0.500 (+/-0.560) for {'C': 0.01, 'penalty': 'l1'}\n",
      "0.583 (+/-0.544) for {'C': 0.01, 'penalty': 'l2'}\n",
      "0.500 (+/-0.560) for {'C': 0.1, 'penalty': 'l1'}\n",
      "0.567 (+/-0.543) for {'C': 0.1, 'penalty': 'l2'}\n",
      "0.593 (+/-0.541) for {'C': 1, 'penalty': 'l1'}\n",
      "0.558 (+/-0.538) for {'C': 1, 'penalty': 'l2'}\n",
      "0.630 (+/-0.558) for {'C': 10, 'penalty': 'l1'}\n",
      "0.553 (+/-0.531) for {'C': 10, 'penalty': 'l2'}\n",
      "0.656 (+/-0.548) for {'C': 100, 'penalty': 'l1'}\n",
      "0.557 (+/-0.532) for {'C': 100, 'penalty': 'l2'}\n",
      "0.654 (+/-0.546) for {'C': 1000, 'penalty': 'l1'}\n",
      "0.564 (+/-0.531) for {'C': 1000, 'penalty': 'l2'}\n",
      "\n",
      "Detailed classification report:\n",
      "\n",
      "The model is trained on the full development set.\n",
      "The scores are computed on the full evaluation set.\n",
      "\n",
      "             precision    recall  f1-score   support\n",
      "\n",
      "          I       0.80      0.67      0.73        12\n",
      "          R       0.20      0.33      0.25         3\n",
      "\n",
      "avg / total       0.68      0.60      0.63        15\n",
      "\n",
      "ROC AUC score\n",
      "0.5\n",
      "\n",
      "This is the classification report for the training set:\n",
      "             precision    recall  f1-score   support\n",
      "\n",
      "          I       1.00      1.00      1.00        17\n",
      "          R       1.00      1.00      1.00        17\n",
      "\n",
      "avg / total       1.00      1.00      1.00        34\n",
      "\n"
     ]
    },
    {
     "data": {
      "image/png": "[encoded data removed]",
      "text/plain": [
       "<Figure size 600x400 with 2 Axes>"
      ]
     },
     "metadata": {},
     "output_type": "display_data"
    }
   ],
   "source": [
    "lr = train_logistic(X_diff, y_diff, False)\n",
    "pickle.dump(lr, open(\"lr_binary_model.pkl\", \"wb\") )"
   ]
  },
  {
   "cell_type": "code",
   "execution_count": 20,
   "metadata": {
    "collapsed": false
   },
   "outputs": [
    {
     "name": "stdout",
     "output_type": "stream",
     "text": [
      "# Tuning hyper-parameter\n",
      "\n",
      "Best parameters set found on development set:\n",
      "\n",
      "{'C': 10, 'penalty': 'l1'}\n",
      "\n",
      "Grid scores on development set:\n",
      "\n",
      "0.500 (+/-0.560) for {'C': 0.001, 'penalty': 'l1'}\n",
      "0.582 (+/-0.555) for {'C': 0.001, 'penalty': 'l2'}\n",
      "0.500 (+/-0.560) for {'C': 0.01, 'penalty': 'l1'}\n",
      "0.645 (+/-0.538) for {'C': 0.01, 'penalty': 'l2'}\n",
      "0.375 (+/-0.506) for {'C': 0.1, 'penalty': 'l1'}\n",
      "0.677 (+/-0.524) for {'C': 0.1, 'penalty': 'l2'}\n",
      "0.705 (+/-0.512) for {'C': 1, 'penalty': 'l1'}\n",
      "0.664 (+/-0.511) for {'C': 1, 'penalty': 'l2'}\n",
      "0.720 (+/-0.524) for {'C': 10, 'penalty': 'l1'}\n",
      "0.659 (+/-0.513) for {'C': 10, 'penalty': 'l2'}\n",
      "0.688 (+/-0.518) for {'C': 100, 'penalty': 'l1'}\n",
      "0.658 (+/-0.514) for {'C': 100, 'penalty': 'l2'}\n",
      "0.657 (+/-0.504) for {'C': 1000, 'penalty': 'l1'}\n",
      "0.654 (+/-0.517) for {'C': 1000, 'penalty': 'l2'}\n",
      "\n",
      "Detailed classification report:\n",
      "\n",
      "The model is trained on the full development set.\n",
      "The scores are computed on the full evaluation set.\n",
      "\n",
      "             precision    recall  f1-score   support\n",
      "\n",
      "          I       0.80      0.33      0.47        12\n",
      "          R       0.20      0.67      0.31         3\n",
      "\n",
      "avg / total       0.68      0.40      0.44        15\n",
      "\n",
      "ROC AUC score\n",
      "0.5\n",
      "\n",
      "This is the classification report for the training set:\n",
      "             precision    recall  f1-score   support\n",
      "\n",
      "          I       1.00      1.00      1.00        17\n",
      "          R       1.00      1.00      1.00        17\n",
      "\n",
      "avg / total       1.00      1.00      1.00        34\n",
      "\n"
     ]
    },
    {
     "data": {
      "image/png": "[encoded data removed]",
      "text/plain": [
       "<Figure size 600x400 with 2 Axes>"
      ]
     },
     "metadata": {},
     "output_type": "display_data"
    }
   ],
   "source": [
    "lr = train_logistic(X_concat, y_concat, False)\n",
    "pickle.dump(lr, open(\"lr_binary_concat_model.pkl\", \"wb\") )"
   ]
  },
  {
   "cell_type": "code",
   "execution_count": 66,
   "metadata": {
    "collapsed": false
   },
   "outputs": [
    {
     "name": "stdout",
     "output_type": "stream",
     "text": [
      "# Tuning hyper-parameter\n",
      "\n",
      "Best parameters set found on development set:\n",
      "\n",
      "{'C': 1000, 'penalty': 'l1'}\n",
      "\n",
      "Grid scores on development set:\n",
      "\n",
      "0.503 (+/-0.558) for {'C': 0.001, 'penalty': 'l1'}\n",
      "0.464 (+/-0.558) for {'C': 0.001, 'penalty': 'l2'}\n",
      "0.527 (+/-0.562) for {'C': 0.01, 'penalty': 'l1'}\n",
      "0.467 (+/-0.556) for {'C': 0.01, 'penalty': 'l2'}\n",
      "0.519 (+/-0.568) for {'C': 0.1, 'penalty': 'l1'}\n",
      "0.468 (+/-0.558) for {'C': 0.1, 'penalty': 'l2'}\n",
      "0.497 (+/-0.565) for {'C': 1, 'penalty': 'l1'}\n",
      "0.468 (+/-0.558) for {'C': 1, 'penalty': 'l2'}\n",
      "0.490 (+/-0.567) for {'C': 10, 'penalty': 'l1'}\n",
      "0.468 (+/-0.557) for {'C': 10, 'penalty': 'l2'}\n",
      "0.531 (+/-0.556) for {'C': 100, 'penalty': 'l1'}\n",
      "0.468 (+/-0.558) for {'C': 100, 'penalty': 'l2'}\n",
      "0.547 (+/-0.564) for {'C': 1000, 'penalty': 'l1'}\n",
      "0.468 (+/-0.557) for {'C': 1000, 'penalty': 'l2'}\n",
      "\n",
      "Detailed classification report:\n",
      "\n",
      "The model is trained on the full development set.\n",
      "The scores are computed on the full evaluation set.\n",
      "\n",
      "              precision    recall  f1-score   support\n",
      "\n",
      "           I       1.00      0.75      0.86        12\n",
      "           R       0.50      1.00      0.67         3\n",
      "\n",
      "   micro avg       0.80      0.80      0.80        15\n",
      "   macro avg       0.75      0.88      0.76        15\n",
      "weighted avg       0.90      0.80      0.82        15\n",
      "\n",
      "\n"
     ]
    },
    {
     "data": {
      "image/png": "[encoded data removed]",
      "text/plain": [
       "<Figure size 432x288 with 2 Axes>"
      ]
     },
     "metadata": {},
     "output_type": "display_data"
    }
   ],
   "source": [
    "# THIS IS OUTPUT FROM THE HISTOGRAM data (binary)"
   ]
  },
  {
   "cell_type": "code",
   "execution_count": 28,
   "metadata": {
    "collapsed": false
   },
   "outputs": [
    {
     "name": "stdout",
     "output_type": "stream",
     "text": [
      "# Tuning hyper-parameter\n",
      "\n",
      "Best parameters set found on development set:\n",
      "\n",
      "{'C': 10}\n",
      "\n",
      "Grid scores on development set:\n",
      "\n",
      "0.500 (+/-0.220) for {'C': 0.001}\n",
      "0.423 (+/-0.183) for {'C': 0.01}\n",
      "0.397 (+/-0.243) for {'C': 0.1}\n",
      "0.474 (+/-0.248) for {'C': 1}\n",
      "0.513 (+/-0.291) for {'C': 10}\n",
      "0.513 (+/-0.291) for {'C': 100}\n",
      "0.513 (+/-0.291) for {'C': 1000}\n",
      "\n",
      "Detailed classification report:\n",
      "\n",
      "The model is trained on the full development set.\n",
      "The scores are computed on the full evaluation set.\n",
      "\n",
      "             precision    recall  f1-score   support\n",
      "\n",
      "          I       1.00      0.71      0.83         7\n",
      "          R       0.60      0.43      0.50         7\n",
      "          S       0.40      0.67      0.50         6\n",
      "\n",
      "avg / total       0.68      0.60      0.62        20\n",
      "\n",
      "\n",
      "This is the classification report for the training set:\n",
      "             precision    recall  f1-score   support\n",
      "\n",
      "          I       1.00      1.00      1.00        26\n",
      "          R       1.00      1.00      1.00        26\n",
      "          S       1.00      1.00      1.00        26\n",
      "\n",
      "avg / total       1.00      1.00      1.00        78\n",
      "\n"
     ]
    },
    {
     "data": {
      "image/png": "[encoded data removed]",
      "text/plain": [
       "<Figure size 600x400 with 2 Axes>"
      ]
     },
     "metadata": {},
     "output_type": "display_data"
    }
   ],
   "source": [
    "lr = train_logistic(X_reduced_aug, y_reduced_aug, True, cv=7, test_size=0.2)\n",
    "pickle.dump(lr, open(\"lr_binary_reduced_model_aug_strat.pkl\", \"wb\") )"
   ]
  },
  {
   "cell_type": "code",
   "execution_count": 35,
   "metadata": {
    "collapsed": false
   },
   "outputs": [
    {
     "name": "stdout",
     "output_type": "stream",
     "text": [
      "# Tuning hyper-parameter\n",
      "\n",
      "Best parameters set found on development set:\n",
      "\n",
      "{'C': 1000}\n",
      "\n",
      "Grid scores on development set:\n",
      "\n",
      "0.217 (+/-0.453) for {'C': 0.001}\n",
      "0.247 (+/-0.486) for {'C': 0.01}\n",
      "0.330 (+/-0.546) for {'C': 0.1}\n",
      "0.460 (+/-0.568) for {'C': 1}\n",
      "0.489 (+/-0.573) for {'C': 10}\n",
      "0.495 (+/-0.569) for {'C': 100}\n",
      "0.497 (+/-0.568) for {'C': 1000}\n",
      "\n",
      "Detailed classification report:\n",
      "\n",
      "The model is trained on the full development set.\n",
      "The scores are computed on the full evaluation set.\n",
      "\n",
      "             precision    recall  f1-score   support\n",
      "\n",
      "          I       1.00      0.36      0.53        11\n",
      "          R       1.00      0.50      0.67        12\n",
      "          S       0.35      1.00      0.52         7\n",
      "\n",
      "avg / total       0.85      0.57      0.58        30\n",
      "\n",
      "\n",
      "This is the classification report for the training set:\n",
      "             precision    recall  f1-score   support\n",
      "\n",
      "          I       1.00      1.00      1.00        22\n",
      "          R       1.00      1.00      1.00        21\n",
      "          S       1.00      1.00      1.00        25\n",
      "\n",
      "avg / total       1.00      1.00      1.00        68\n",
      "\n"
     ]
    },
    {
     "data": {
      "image/png": "[encoded data removed]",
      "text/plain": [
       "<Figure size 600x400 with 2 Axes>"
      ]
     },
     "metadata": {},
     "output_type": "display_data"
    }
   ],
   "source": [
    "lr2 = train_logistic(X_reduced_aug, y_reduced_aug, True, 7)\n",
    "pickle.dump(lr2, open(\"lr_multi_reduced_model_aug.pkl\", \"wb\") )"
   ]
  },
  {
   "cell_type": "code",
   "execution_count": 25,
   "metadata": {
    "collapsed": false
   },
   "outputs": [
    {
     "name": "stdout",
     "output_type": "stream",
     "text": [
      "# Tuning hyper-parameter\n",
      "\n",
      "Best parameters set found on development set:\n",
      "\n",
      "{'C': 1}\n",
      "\n",
      "Grid scores on development set:\n",
      "\n",
      "0.444 (+/-0.469) for {'C': 0.001}\n",
      "0.400 (+/-0.544) for {'C': 0.01}\n",
      "0.444 (+/-0.553) for {'C': 0.1}\n",
      "0.456 (+/-0.538) for {'C': 1}\n",
      "0.449 (+/-0.546) for {'C': 10}\n",
      "0.447 (+/-0.548) for {'C': 100}\n",
      "0.443 (+/-0.546) for {'C': 1000}\n",
      "\n",
      "Detailed classification report:\n",
      "\n",
      "The model is trained on the full development set.\n",
      "The scores are computed on the full evaluation set.\n",
      "\n",
      "             precision    recall  f1-score   support\n",
      "\n",
      "          I       1.00      0.67      0.80        12\n",
      "          R       0.33      1.00      0.50         1\n",
      "          S       0.25      0.50      0.33         2\n",
      "\n",
      "avg / total       0.86      0.67      0.72        15\n",
      "\n",
      "\n",
      "This is the classification report for the training set:\n",
      "             precision    recall  f1-score   support\n",
      "\n",
      "          I       1.00      1.00      1.00        17\n",
      "          R       1.00      1.00      1.00         3\n",
      "          S       1.00      1.00      1.00        14\n",
      "\n",
      "avg / total       1.00      1.00      1.00        34\n",
      "\n"
     ]
    },
    {
     "data": {
      "image/png": "[encoded data removed]",
      "text/plain": [
       "<Figure size 600x400 with 2 Axes>"
      ]
     },
     "metadata": {},
     "output_type": "display_data"
    }
   ],
   "source": [
    "# extra reduced\n",
    "lr2 = train_logistic(X_reduced, y_reduced, True)\n",
    "\n",
    "pickle.dump(lr2, open(\"lr_multi_model_reduced.pkl\", \"wb\") )"
   ]
  },
  {
   "cell_type": "code",
   "execution_count": 29,
   "metadata": {
    "collapsed": false
   },
   "outputs": [
    {
     "name": "stdout",
     "output_type": "stream",
     "text": [
      "# Tuning hyper-parameter\n",
      "\n",
      "Best parameters set found on development set:\n",
      "\n",
      "{'C': 0.01}\n",
      "\n",
      "Grid scores on development set:\n",
      "\n",
      "0.466 (+/-0.540) for {'C': 0.001}\n",
      "0.570 (+/-0.556) for {'C': 0.01}\n",
      "0.536 (+/-0.542) for {'C': 0.1}\n",
      "0.536 (+/-0.555) for {'C': 1}\n",
      "0.528 (+/-0.557) for {'C': 10}\n",
      "0.520 (+/-0.553) for {'C': 100}\n",
      "0.502 (+/-0.548) for {'C': 1000}\n",
      "\n",
      "Detailed classification report:\n",
      "\n",
      "The model is trained on the full development set.\n",
      "The scores are computed on the full evaluation set.\n",
      "\n",
      "             precision    recall  f1-score   support\n",
      "\n",
      "          I       0.77      0.83      0.80        12\n",
      "          R       0.00      0.00      0.00         1\n",
      "          S       0.00      0.00      0.00         2\n",
      "\n",
      "avg / total       0.62      0.67      0.64        15\n",
      "\n",
      "\n",
      "This is the classification report for the training set:\n",
      "             precision    recall  f1-score   support\n",
      "\n",
      "          I       0.80      0.94      0.86        17\n",
      "          R       0.00      0.00      0.00         3\n",
      "          S       0.86      0.86      0.86        14\n",
      "\n",
      "avg / total       0.75      0.82      0.79        34\n",
      "\n"
     ]
    },
    {
     "name": "stderr",
     "output_type": "stream",
     "text": [
      "/home/anna.merkoulovitch/anaconda3/lib/python3.5/site-packages/sklearn/metrics/classification.py:1113: UndefinedMetricWarning: Precision and F-score are ill-defined and being set to 0.0 in labels with no predicted samples.\n",
      "  'precision', 'predicted', average, warn_for)\n",
      "/home/anna.merkoulovitch/anaconda3/lib/python3.5/site-packages/sklearn/metrics/classification.py:1113: UndefinedMetricWarning: Precision and F-score are ill-defined and being set to 0.0 in labels with no predicted samples.\n",
      "  'precision', 'predicted', average, warn_for)\n"
     ]
    },
    {
     "data": {
      "image/png": "[encoded data removed]",
      "text/plain": [
       "<Figure size 600x400 with 2 Axes>"
      ]
     },
     "metadata": {},
     "output_type": "display_data"
    }
   ],
   "source": [
    "lr2 = train_logistic(X_reduced, y_reduced, True)\n",
    "\n",
    "pickle.dump(lr2, open(\"lr_multi_model_reduced.pkl\", \"wb\") )"
   ]
  },
  {
   "cell_type": "code",
   "execution_count": 19,
   "metadata": {
    "collapsed": false
   },
   "outputs": [
    {
     "name": "stdout",
     "output_type": "stream",
     "text": [
      "# Tuning hyper-parameter\n",
      "\n",
      "Best parameters set found on development set:\n",
      "\n",
      "{'C': 0.01}\n",
      "\n",
      "Grid scores on development set:\n",
      "\n",
      "0.502 (+/-0.587) for {'C': 0.001}\n",
      "0.545 (+/-0.543) for {'C': 0.01}\n",
      "0.517 (+/-0.559) for {'C': 0.1}\n",
      "0.504 (+/-0.557) for {'C': 1}\n",
      "0.495 (+/-0.554) for {'C': 10}\n",
      "0.492 (+/-0.550) for {'C': 100}\n",
      "0.493 (+/-0.565) for {'C': 1000}\n",
      "\n",
      "Detailed classification report:\n",
      "\n",
      "The model is trained on the full development set.\n",
      "The scores are computed on the full evaluation set.\n",
      "\n",
      "             precision    recall  f1-score   support\n",
      "\n",
      "          I       0.83      0.83      0.83        12\n",
      "          R       1.00      1.00      1.00         1\n",
      "          S       0.00      0.00      0.00         2\n",
      "\n",
      "avg / total       0.73      0.73      0.73        15\n",
      "\n",
      "\n",
      "This is the classification report for the training set:\n",
      "             precision    recall  f1-score   support\n",
      "\n",
      "          I       0.89      0.94      0.91        17\n",
      "          R       1.00      0.33      0.50         3\n",
      "          S       0.87      0.93      0.90        14\n",
      "\n",
      "avg / total       0.89      0.88      0.87        34\n",
      "\n"
     ]
    },
    {
     "data": {
      "image/png": "[encoded data removed]",
      "text/plain": [
       "<Figure size 600x400 with 2 Axes>"
      ]
     },
     "metadata": {},
     "output_type": "display_data"
    }
   ],
   "source": [
    "lr2 = train_logistic(X_diff, y_diff, True)\n",
    "\n",
    "pickle.dump(lr2, open(\"lr_multi_model_diff.pkl\", \"wb\") )"
   ]
  },
  {
   "cell_type": "code",
   "execution_count": 21,
   "metadata": {
    "collapsed": false
   },
   "outputs": [
    {
     "name": "stdout",
     "output_type": "stream",
     "text": [
      "# Tuning hyper-parameter\n",
      "\n",
      "Best parameters set found on development set:\n",
      "\n",
      "{'C': 0.01}\n",
      "\n",
      "Grid scores on development set:\n",
      "\n",
      "0.534 (+/-0.574) for {'C': 0.001}\n",
      "0.541 (+/-0.558) for {'C': 0.01}\n",
      "0.536 (+/-0.557) for {'C': 0.1}\n",
      "0.513 (+/-0.548) for {'C': 1}\n",
      "0.516 (+/-0.553) for {'C': 10}\n",
      "0.524 (+/-0.562) for {'C': 100}\n",
      "0.520 (+/-0.562) for {'C': 1000}\n",
      "\n",
      "Detailed classification report:\n",
      "\n",
      "The model is trained on the full development set.\n",
      "The scores are computed on the full evaluation set.\n",
      "\n",
      "             precision    recall  f1-score   support\n",
      "\n",
      "          I       0.86      0.50      0.63        12\n",
      "          R       0.00      0.00      0.00         1\n",
      "          S       0.12      0.50      0.20         2\n",
      "\n",
      "avg / total       0.70      0.47      0.53        15\n",
      "\n",
      "\n",
      "This is the classification report for the training set:\n",
      "             precision    recall  f1-score   support\n",
      "\n",
      "          I       0.94      0.94      0.94        17\n",
      "          R       0.00      0.00      0.00         3\n",
      "          S       0.76      0.93      0.84        14\n",
      "\n",
      "avg / total       0.79      0.85      0.82        34\n",
      "\n"
     ]
    },
    {
     "name": "stderr",
     "output_type": "stream",
     "text": [
      "/home/anna.merkoulovitch/anaconda3/lib/python3.5/site-packages/sklearn/metrics/classification.py:1113: UndefinedMetricWarning: Precision and F-score are ill-defined and being set to 0.0 in labels with no predicted samples.\n",
      "  'precision', 'predicted', average, warn_for)\n",
      "/home/anna.merkoulovitch/anaconda3/lib/python3.5/site-packages/sklearn/metrics/classification.py:1113: UndefinedMetricWarning: Precision and F-score are ill-defined and being set to 0.0 in labels with no predicted samples.\n",
      "  'precision', 'predicted', average, warn_for)\n"
     ]
    },
    {
     "data": {
      "image/png": "[encoded data removed]",
      "text/plain": [
       "<Figure size 600x400 with 2 Axes>"
      ]
     },
     "metadata": {},
     "output_type": "display_data"
    }
   ],
   "source": [
    "lr2 = train_logistic(X_concat, y_concat, True)\n",
    "\n",
    "pickle.dump(lr2, open(\"lr_multi_concat_model_diff.pkl\", \"wb\") )"
   ]
  },
  {
   "cell_type": "code",
   "execution_count": 76,
   "metadata": {
    "collapsed": false
   },
   "outputs": [
    {
     "name": "stdout",
     "output_type": "stream",
     "text": [
      "# Tuning hyper-parameter\n",
      "\n",
      "Best parameters set found on development set:\n",
      "\n",
      "{'C': 1}\n",
      "\n",
      "Grid scores on development set:\n",
      "\n",
      "0.402 (+/-0.538) for {'C': 0.001}\n",
      "0.410 (+/-0.552) for {'C': 0.01}\n",
      "0.412 (+/-0.552) for {'C': 0.1}\n",
      "0.413 (+/-0.553) for {'C': 1}\n",
      "0.398 (+/-0.547) for {'C': 10}\n",
      "0.393 (+/-0.543) for {'C': 100}\n",
      "0.395 (+/-0.543) for {'C': 1000}\n",
      "\n",
      "Detailed classification report:\n",
      "\n",
      "The model is trained on the full development set.\n",
      "The scores are computed on the full evaluation set.\n",
      "\n",
      "              precision    recall  f1-score   support\n",
      "\n",
      "           I       0.71      0.42      0.53        12\n",
      "           R       0.25      1.00      0.40         1\n",
      "           S       0.00      0.00      0.00         2\n",
      "\n",
      "   micro avg       0.40      0.40      0.40        15\n",
      "   macro avg       0.32      0.47      0.31        15\n",
      "weighted avg       0.59      0.40      0.45        15\n",
      "\n",
      "\n"
     ]
    },
    {
     "data": {
      "image/png": "[encoded data removed]",
      "text/plain": [
       "<Figure size 432x288 with 2 Axes>"
      ]
     },
     "metadata": {},
     "output_type": "display_data"
    }
   ],
   "source": [
    "# THIS IS OUTPUT FROM THE HISTOGRAM data (multiclass)"
   ]
  },
  {
   "cell_type": "markdown",
   "metadata": {},
   "source": [
    "### SVM: Note that these all just give 100% improved"
   ]
  },
  {
   "cell_type": "code",
   "execution_count": 8,
   "metadata": {
    "collapsed": false
   },
   "outputs": [
    {
     "name": "stdout",
     "output_type": "stream",
     "text": [
      "# Tuning hyper-parameter\n",
      "\n",
      "Best parameters set found on development set:\n",
      "\n",
      "{'C': 10, 'gamma': 0.1}\n",
      "\n",
      "Grid scores on development set:\n",
      "\n",
      "0.500 (+/-0.560) for {'C': 0.1, 'gamma': 0.1}\n",
      "0.500 (+/-0.560) for {'C': 0.1, 'gamma': 1}\n",
      "0.500 (+/-0.560) for {'C': 0.1, 'gamma': 10}\n",
      "0.500 (+/-0.560) for {'C': 0.1, 'gamma': 100}\n",
      "0.500 (+/-0.560) for {'C': 0.1, 'gamma': 1000}\n",
      "0.555 (+/-0.557) for {'C': 10, 'gamma': 0.1}\n",
      "0.555 (+/-0.557) for {'C': 10, 'gamma': 1}\n",
      "0.555 (+/-0.557) for {'C': 10, 'gamma': 10}\n",
      "0.555 (+/-0.557) for {'C': 10, 'gamma': 100}\n",
      "0.555 (+/-0.557) for {'C': 10, 'gamma': 1000}\n",
      "0.555 (+/-0.557) for {'C': 100, 'gamma': 0.1}\n",
      "0.555 (+/-0.557) for {'C': 100, 'gamma': 1}\n",
      "0.555 (+/-0.557) for {'C': 100, 'gamma': 10}\n",
      "0.555 (+/-0.557) for {'C': 100, 'gamma': 100}\n",
      "0.555 (+/-0.557) for {'C': 100, 'gamma': 1000}\n",
      "0.555 (+/-0.557) for {'C': 1000, 'gamma': 0.1}\n",
      "0.555 (+/-0.557) for {'C': 1000, 'gamma': 1}\n",
      "0.555 (+/-0.557) for {'C': 1000, 'gamma': 10}\n",
      "0.555 (+/-0.557) for {'C': 1000, 'gamma': 100}\n",
      "0.555 (+/-0.557) for {'C': 1000, 'gamma': 1000}\n",
      "\n",
      "Detailed classification report:\n",
      "\n",
      "The model is trained on the full development set.\n",
      "The scores are computed on the full evaluation set.\n",
      "\n",
      "             precision    recall  f1-score   support\n",
      "\n",
      "          I       0.80      1.00      0.89        12\n",
      "          R       0.00      0.00      0.00         1\n",
      "          S       0.00      0.00      0.00         2\n",
      "\n",
      "avg / total       0.64      0.80      0.71        15\n",
      "\n",
      "\n"
     ]
    },
    {
     "name": "stderr",
     "output_type": "stream",
     "text": [
      "/home/anna.merkoulovitch/anaconda3/lib/python3.5/site-packages/sklearn/metrics/classification.py:1113: UndefinedMetricWarning: Precision and F-score are ill-defined and being set to 0.0 in labels with no predicted samples.\n",
      "  'precision', 'predicted', average, warn_for)\n"
     ]
    }
   ],
   "source": [
    "params = [{'C': [0.1,10,100, 1000], 'gamma': [0.1,1,10,100, 1000]}]\n",
    "sv = GridSearchCV(svm.SVC(), cv=lpo, param_grid = params)\n",
    "utils.do_CV(X,y, sv, multi_class=True)"
   ]
  },
  {
   "cell_type": "code",
   "execution_count": 74,
   "metadata": {
    "collapsed": false
   },
   "outputs": [
    {
     "name": "stdout",
     "output_type": "stream",
     "text": [
      "# Tuning hyper-parameter\n",
      "\n",
      "Best parameters set found on development set:\n",
      "\n",
      "{'C': 10, 'gamma': 0.1}\n",
      "\n",
      "Grid scores on development set:\n",
      "\n",
      "0.500 (+/-0.560) for {'C': 0.1, 'gamma': 0.1}\n",
      "0.500 (+/-0.560) for {'C': 0.1, 'gamma': 1}\n",
      "0.500 (+/-0.560) for {'C': 0.1, 'gamma': 10}\n",
      "0.500 (+/-0.560) for {'C': 0.1, 'gamma': 100}\n",
      "0.500 (+/-0.560) for {'C': 0.1, 'gamma': 1000}\n",
      "0.555 (+/-0.557) for {'C': 10, 'gamma': 0.1}\n",
      "0.555 (+/-0.557) for {'C': 10, 'gamma': 1}\n",
      "0.555 (+/-0.557) for {'C': 10, 'gamma': 10}\n",
      "0.555 (+/-0.557) for {'C': 10, 'gamma': 100}\n",
      "0.555 (+/-0.557) for {'C': 10, 'gamma': 1000}\n",
      "0.555 (+/-0.557) for {'C': 100, 'gamma': 0.1}\n",
      "0.555 (+/-0.557) for {'C': 100, 'gamma': 1}\n",
      "0.555 (+/-0.557) for {'C': 100, 'gamma': 10}\n",
      "0.555 (+/-0.557) for {'C': 100, 'gamma': 100}\n",
      "0.555 (+/-0.557) for {'C': 100, 'gamma': 1000}\n",
      "0.555 (+/-0.557) for {'C': 1000, 'gamma': 0.1}\n",
      "0.555 (+/-0.557) for {'C': 1000, 'gamma': 1}\n",
      "0.555 (+/-0.557) for {'C': 1000, 'gamma': 10}\n",
      "0.555 (+/-0.557) for {'C': 1000, 'gamma': 100}\n",
      "0.555 (+/-0.557) for {'C': 1000, 'gamma': 1000}\n",
      "\n",
      "Detailed classification report:\n",
      "\n",
      "The model is trained on the full development set.\n",
      "The scores are computed on the full evaluation set.\n",
      "\n",
      "              precision    recall  f1-score   support\n",
      "\n",
      "           I       0.80      1.00      0.89        12\n",
      "           R       0.00      0.00      0.00         1\n",
      "           S       0.00      0.00      0.00         2\n",
      "\n",
      "   micro avg       0.80      0.80      0.80        15\n",
      "   macro avg       0.27      0.33      0.30        15\n",
      "weighted avg       0.64      0.80      0.71        15\n",
      "\n",
      "\n"
     ]
    },
    {
     "name": "stderr",
     "output_type": "stream",
     "text": [
      "/Users/anna.merkoulovitch/miniconda3/envs/cs229-project/lib/python3.6/site-packages/sklearn/metrics/classification.py:1143: UndefinedMetricWarning: Precision and F-score are ill-defined and being set to 0.0 in labels with no predicted samples.\n",
      "  'precision', 'predicted', average, warn_for)\n",
      "/Users/anna.merkoulovitch/miniconda3/envs/cs229-project/lib/python3.6/site-packages/sklearn/metrics/classification.py:1143: UndefinedMetricWarning: Precision and F-score are ill-defined and being set to 0.0 in labels with no predicted samples.\n",
      "  'precision', 'predicted', average, warn_for)\n",
      "/Users/anna.merkoulovitch/miniconda3/envs/cs229-project/lib/python3.6/site-packages/sklearn/metrics/classification.py:1143: UndefinedMetricWarning: Precision and F-score are ill-defined and being set to 0.0 in labels with no predicted samples.\n",
      "  'precision', 'predicted', average, warn_for)\n"
     ]
    },
    {
     "data": {
      "image/png": "[encoded data removed]",
      "text/plain": [
       "<Figure size 432x288 with 2 Axes>"
      ]
     },
     "metadata": {},
     "output_type": "display_data"
    }
   ],
   "source": [
    "params = [{'C': [0.1,10,100, 1000], 'gamma': [0.1,1,10,100, 1000]}]\n",
    "sv = GridSearchCV(svm.SVC(), cv=lpo, param_grid = params)\n",
    "utils.do_CV(X,y, sv, multi_class=True)"
   ]
  },
  {
   "cell_type": "markdown",
   "metadata": {},
   "source": [
    "### This can be ignored for now"
   ]
  },
  {
   "cell_type": "code",
   "execution_count": 7,
   "metadata": {
    "collapsed": true
   },
   "outputs": [],
   "source": [
    "def plot_learning_curve(model, X,y, cv):\n",
    "    train_sizes, train_scores, test_scores = learning_curve(model, X, y,\n",
    "                                                            train_sizes=[5,10,15,20,25,30,35,40,45,48],\n",
    "                                                            cv=cv)\n",
    "    train_scores_mean = np.mean(train_scores, axis=1)\n",
    "    train_scores_std = np.std(train_scores, axis=1)\n",
    "    test_scores_mean = np.mean(test_scores, axis=1)\n",
    "    test_scores_std = np.std(test_scores, axis=1)\n",
    "    plt.grid()\n",
    "\n",
    "    plt.fill_between(train_sizes, train_scores_mean - train_scores_std,\n",
    "                     train_scores_mean + train_scores_std, alpha=0.1,\n",
    "                     color=\"r\")\n",
    "    plt.fill_between(train_sizes, test_scores_mean - test_scores_std,\n",
    "                     test_scores_mean + test_scores_std, alpha=0.1, color=\"g\")\n",
    "    plt.plot(train_sizes, train_scores_mean, 'o-', color=\"r\",\n",
    "             label=\"Training score\")\n",
    "    plt.plot(train_sizes, test_scores_mean, 'o-', color=\"g\",\n",
    "             label=\"Cross-validation score\")\n",
    "\n",
    "    plt.legend(loc=\"best\")"
   ]
  },
  {
   "cell_type": "code",
   "execution_count": 49,
   "metadata": {
    "collapsed": false
   },
   "outputs": [
    {
     "data": {
      "image/png": "[encoded data removed]",
      "text/plain": [
       "<Figure size 432x288 with 1 Axes>"
      ]
     },
     "metadata": {
      "needs_background": "light"
     },
     "output_type": "display_data"
    }
   ],
   "source": [
    "plot_learning_curve(knn, X,y, 4)"
   ]
  },
  {
   "cell_type": "code",
   "execution_count": 51,
   "metadata": {
    "collapsed": false
   },
   "outputs": [
    {
     "data": {
      "image/png": "[encoded data removed]",
      "text/plain": [
       "<Figure size 432x288 with 1 Axes>"
      ]
     },
     "metadata": {
      "needs_background": "light"
     },
     "output_type": "display_data"
    }
   ],
   "source": [
    "plot_learning_curve(logistic, X,y, 3)"
   ]
  },
  {
   "cell_type": "code",
   "execution_count": null,
   "metadata": {
    "collapsed": true
   },
   "outputs": [],
   "source": [
    "#pytorch\n",
    "#pretrained embeddings\n",
    "# extract a feature vector for any image with pytorch"
   ]
  },
  {
   "cell_type": "code",
   "execution_count": 5,
   "metadata": {
    "collapsed": false
   },
   "outputs": [
    {
     "data": {
      "image/png": "[encoded data removed]",
      "text/plain": [
       "<Figure size 432x288 with 1 Axes>"
      ]
     },
     "metadata": {
      "needs_background": "light"
     },
     "output_type": "display_data"
    }
   ],
   "source": [
    "loo = model_selection.LeaveOneOut()\n",
    "param_range = np.logspace(-11, -8, 31)\n",
    "\n",
    "utils.generate_validation_curve(svm.SVC(), X, y, param_name=\"gamma\", param_range=param_range,\n",
    "                                cv=loo, scoring=\"accuracy\", n_jobs=-1,\n",
    "                                title=\"Validation Curve with SVM\", xlabel=\"$\\gamma$\")"
   ]
  },
  {
   "cell_type": "code",
   "execution_count": 8,
   "metadata": {
    "collapsed": false
   },
   "outputs": [
    {
     "data": {
      "image/png": "[encoded data removed]",
      "text/plain": [
       "<Figure size 432x288 with 1 Axes>"
      ]
     },
     "metadata": {
      "needs_background": "light"
     },
     "output_type": "display_data"
    }
   ],
   "source": [
    "svm_classifier = svm.SVC(gamma=1e-11)\n",
    "plot_learning_curve(svm_classifier, X,y, cv=loo)"
   ]
  },
  {
   "cell_type": "code",
   "execution_count": 9,
   "metadata": {
    "collapsed": false
   },
   "outputs": [
    {
     "data": {
      "image/png": "[encoded data removed]",
      "text/plain": [
       "<Figure size 432x288 with 1 Axes>"
      ]
     },
     "metadata": {
      "needs_background": "light"
     },
     "output_type": "display_data"
    }
   ],
   "source": [
    "svm_classifier = svm.SVC(gamma=2.51188643e-10)\n",
    "plot_learning_curve(svm_classifier, X,y, cv=loo)"
   ]
  },
  {
   "cell_type": "code",
   "execution_count": 10,
   "metadata": {
    "collapsed": false
   },
   "outputs": [
    {
     "data": {
      "image/png": "[encoded data removed]",
      "text/plain": [
       "<Figure size 432x288 with 1 Axes>"
      ]
     },
     "metadata": {
      "needs_background": "light"
     },
     "output_type": "display_data"
    }
   ],
   "source": [
    "svm_classifier = svm.SVC(gamma=1e-8)\n",
    "plot_learning_curve(svm_classifier, X,y, cv=loo)"
   ]
  }
 ],
 "metadata": {
  "kernelspec": {
   "display_name": "Python 3",
   "language": "python",
   "name": "python3"
  },
  "language_info": {
   "codemirror_mode": {
    "name": "ipython",
    "version": 3
   },
   "file_extension": ".py",
   "mimetype": "text/x-python",
   "name": "python",
   "nbconvert_exporter": "python",
   "pygments_lexer": "ipython3",
   "version": "3.5.4"
  }
 },
 "nbformat": 4,
 "nbformat_minor": 2
}
