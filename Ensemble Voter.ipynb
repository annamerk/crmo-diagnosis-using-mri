{
 "cells": [
  {
   "cell_type": "code",
   "execution_count": 1,
   "metadata": {
    "collapsed": false
   },
   "outputs": [],
   "source": [
    "from sklearn.ensemble import VotingClassifier\n",
    "import pandas as pd\n",
    "import matplotlib.pyplot as plt\n",
    "import numpy as np\n",
    "from sklearn import pipeline\n",
    "import pickle\n",
    "%matplotlib inline\n",
    "from sklearn.model_selection import train_test_split,GridSearchCV\n",
    "from sklearn.base import TransformerMixin, BaseEstimator\n",
    "from mlxtend.classifier import EnsembleVoteClassifier\n",
    "\n",
    "import src.utils as utils"
   ]
  },
  {
   "cell_type": "code",
   "execution_count": 31,
   "metadata": {
    "collapsed": false
   },
   "outputs": [
    {
     "data": {
      "text/html": [
       "<div>\n",
       "<style scoped>\n",
       "    .dataframe tbody tr th:only-of-type {\n",
       "        vertical-align: middle;\n",
       "    }\n",
       "\n",
       "    .dataframe tbody tr th {\n",
       "        vertical-align: top;\n",
       "    }\n",
       "\n",
       "    .dataframe thead th {\n",
       "        text-align: right;\n",
       "    }\n",
       "</style>\n",
       "<table border=\"1\" class=\"dataframe\">\n",
       "  <thead>\n",
       "    <tr style=\"text-align: right;\">\n",
       "      <th></th>\n",
       "      <th>vbow_0</th>\n",
       "      <th>vbow_1</th>\n",
       "      <th>vbow_2</th>\n",
       "      <th>vbow_3</th>\n",
       "      <th>vbow_4</th>\n",
       "      <th>vbow_5</th>\n",
       "      <th>vbow_6</th>\n",
       "      <th>vbow_7</th>\n",
       "      <th>vbow_8</th>\n",
       "      <th>vbow_9</th>\n",
       "      <th>...</th>\n",
       "      <th>cnn_2014</th>\n",
       "      <th>cnn_2019</th>\n",
       "      <th>cnn_2020</th>\n",
       "      <th>cnn_2021</th>\n",
       "      <th>cnn_2022</th>\n",
       "      <th>cnn_2024</th>\n",
       "      <th>cnn_2029</th>\n",
       "      <th>cnn_2041</th>\n",
       "      <th>cnn_2044</th>\n",
       "      <th>cnn_2047</th>\n",
       "    </tr>\n",
       "  </thead>\n",
       "  <tbody>\n",
       "    <tr>\n",
       "      <th>6/10-23-14/11-16-17</th>\n",
       "      <td>2.0</td>\n",
       "      <td>17.0</td>\n",
       "      <td>24.0</td>\n",
       "      <td>12.0</td>\n",
       "      <td>9.0</td>\n",
       "      <td>18.0</td>\n",
       "      <td>10.0</td>\n",
       "      <td>10.0</td>\n",
       "      <td>12.0</td>\n",
       "      <td>9.0</td>\n",
       "      <td>...</td>\n",
       "      <td>-0.086636</td>\n",
       "      <td>0.594616</td>\n",
       "      <td>0.438078</td>\n",
       "      <td>-0.726048</td>\n",
       "      <td>-0.575115</td>\n",
       "      <td>-0.408219</td>\n",
       "      <td>0.634305</td>\n",
       "      <td>-0.021134</td>\n",
       "      <td>0.279492</td>\n",
       "      <td>-0.104284</td>\n",
       "    </tr>\n",
       "    <tr>\n",
       "      <th>7/4-10-12/5-28-15</th>\n",
       "      <td>11.0</td>\n",
       "      <td>4.0</td>\n",
       "      <td>12.0</td>\n",
       "      <td>17.0</td>\n",
       "      <td>11.0</td>\n",
       "      <td>4.0</td>\n",
       "      <td>4.0</td>\n",
       "      <td>5.0</td>\n",
       "      <td>8.0</td>\n",
       "      <td>8.0</td>\n",
       "      <td>...</td>\n",
       "      <td>-0.390384</td>\n",
       "      <td>-0.564133</td>\n",
       "      <td>-0.192634</td>\n",
       "      <td>-0.251353</td>\n",
       "      <td>0.012194</td>\n",
       "      <td>0.065411</td>\n",
       "      <td>-0.314697</td>\n",
       "      <td>0.007431</td>\n",
       "      <td>0.414059</td>\n",
       "      <td>-0.030240</td>\n",
       "    </tr>\n",
       "    <tr>\n",
       "      <th>2/12-11-12/12-17-13</th>\n",
       "      <td>15.0</td>\n",
       "      <td>4.0</td>\n",
       "      <td>3.0</td>\n",
       "      <td>5.0</td>\n",
       "      <td>11.0</td>\n",
       "      <td>2.0</td>\n",
       "      <td>6.0</td>\n",
       "      <td>5.0</td>\n",
       "      <td>4.0</td>\n",
       "      <td>9.0</td>\n",
       "      <td>...</td>\n",
       "      <td>0.979832</td>\n",
       "      <td>-0.581350</td>\n",
       "      <td>-0.470310</td>\n",
       "      <td>0.353063</td>\n",
       "      <td>-0.269360</td>\n",
       "      <td>-0.204492</td>\n",
       "      <td>-0.212497</td>\n",
       "      <td>-1.006278</td>\n",
       "      <td>-0.234104</td>\n",
       "      <td>-0.001605</td>\n",
       "    </tr>\n",
       "    <tr>\n",
       "      <th>24/3-11-14/8-14-14</th>\n",
       "      <td>2.0</td>\n",
       "      <td>7.0</td>\n",
       "      <td>8.0</td>\n",
       "      <td>12.0</td>\n",
       "      <td>7.0</td>\n",
       "      <td>8.0</td>\n",
       "      <td>5.0</td>\n",
       "      <td>7.0</td>\n",
       "      <td>3.0</td>\n",
       "      <td>15.0</td>\n",
       "      <td>...</td>\n",
       "      <td>-0.061136</td>\n",
       "      <td>-0.131739</td>\n",
       "      <td>-0.434585</td>\n",
       "      <td>-0.396457</td>\n",
       "      <td>0.555140</td>\n",
       "      <td>-0.049515</td>\n",
       "      <td>0.093676</td>\n",
       "      <td>0.117561</td>\n",
       "      <td>-0.625611</td>\n",
       "      <td>-0.102479</td>\n",
       "    </tr>\n",
       "    <tr>\n",
       "      <th>24b/3-11-14/8-14-14</th>\n",
       "      <td>3.0</td>\n",
       "      <td>12.0</td>\n",
       "      <td>8.0</td>\n",
       "      <td>18.0</td>\n",
       "      <td>6.0</td>\n",
       "      <td>12.0</td>\n",
       "      <td>9.0</td>\n",
       "      <td>9.0</td>\n",
       "      <td>9.0</td>\n",
       "      <td>4.0</td>\n",
       "      <td>...</td>\n",
       "      <td>0.047013</td>\n",
       "      <td>0.828833</td>\n",
       "      <td>0.452950</td>\n",
       "      <td>-0.062897</td>\n",
       "      <td>0.363284</td>\n",
       "      <td>0.678711</td>\n",
       "      <td>-0.026908</td>\n",
       "      <td>0.359598</td>\n",
       "      <td>-0.501149</td>\n",
       "      <td>0.406217</td>\n",
       "    </tr>\n",
       "    <tr>\n",
       "      <th>32/12-17-15/1-5-17</th>\n",
       "      <td>19.0</td>\n",
       "      <td>5.0</td>\n",
       "      <td>9.0</td>\n",
       "      <td>5.0</td>\n",
       "      <td>14.0</td>\n",
       "      <td>9.0</td>\n",
       "      <td>8.0</td>\n",
       "      <td>1.0</td>\n",
       "      <td>2.0</td>\n",
       "      <td>7.0</td>\n",
       "      <td>...</td>\n",
       "      <td>0.549963</td>\n",
       "      <td>-0.674594</td>\n",
       "      <td>-0.021383</td>\n",
       "      <td>-0.665304</td>\n",
       "      <td>-0.235457</td>\n",
       "      <td>-0.679874</td>\n",
       "      <td>-0.582289</td>\n",
       "      <td>-0.038993</td>\n",
       "      <td>0.155165</td>\n",
       "      <td>-0.683775</td>\n",
       "    </tr>\n",
       "    <tr>\n",
       "      <th>41/1-25-11/8-7-12</th>\n",
       "      <td>8.0</td>\n",
       "      <td>7.0</td>\n",
       "      <td>4.0</td>\n",
       "      <td>12.0</td>\n",
       "      <td>29.0</td>\n",
       "      <td>8.0</td>\n",
       "      <td>3.0</td>\n",
       "      <td>19.0</td>\n",
       "      <td>6.0</td>\n",
       "      <td>14.0</td>\n",
       "      <td>...</td>\n",
       "      <td>-0.326672</td>\n",
       "      <td>0.113593</td>\n",
       "      <td>-0.193529</td>\n",
       "      <td>-0.176102</td>\n",
       "      <td>0.093235</td>\n",
       "      <td>0.045863</td>\n",
       "      <td>0.294768</td>\n",
       "      <td>0.039116</td>\n",
       "      <td>0.044953</td>\n",
       "      <td>0.465247</td>\n",
       "    </tr>\n",
       "  </tbody>\n",
       "</table>\n",
       "<p>7 rows × 498 columns</p>\n",
       "</div>"
      ],
      "text/plain": [
       "                     vbow_0  vbow_1  vbow_2  vbow_3  vbow_4  vbow_5  vbow_6  \\\n",
       "6/10-23-14/11-16-17     2.0    17.0    24.0    12.0     9.0    18.0    10.0   \n",
       "7/4-10-12/5-28-15      11.0     4.0    12.0    17.0    11.0     4.0     4.0   \n",
       "2/12-11-12/12-17-13    15.0     4.0     3.0     5.0    11.0     2.0     6.0   \n",
       "24/3-11-14/8-14-14      2.0     7.0     8.0    12.0     7.0     8.0     5.0   \n",
       "24b/3-11-14/8-14-14     3.0    12.0     8.0    18.0     6.0    12.0     9.0   \n",
       "32/12-17-15/1-5-17     19.0     5.0     9.0     5.0    14.0     9.0     8.0   \n",
       "41/1-25-11/8-7-12       8.0     7.0     4.0    12.0    29.0     8.0     3.0   \n",
       "\n",
       "                     vbow_7  vbow_8  vbow_9    ...     cnn_2014  cnn_2019  \\\n",
       "6/10-23-14/11-16-17    10.0    12.0     9.0    ...    -0.086636  0.594616   \n",
       "7/4-10-12/5-28-15       5.0     8.0     8.0    ...    -0.390384 -0.564133   \n",
       "2/12-11-12/12-17-13     5.0     4.0     9.0    ...     0.979832 -0.581350   \n",
       "24/3-11-14/8-14-14      7.0     3.0    15.0    ...    -0.061136 -0.131739   \n",
       "24b/3-11-14/8-14-14     9.0     9.0     4.0    ...     0.047013  0.828833   \n",
       "32/12-17-15/1-5-17      1.0     2.0     7.0    ...     0.549963 -0.674594   \n",
       "41/1-25-11/8-7-12      19.0     6.0    14.0    ...    -0.326672  0.113593   \n",
       "\n",
       "                     cnn_2020  cnn_2021  cnn_2022  cnn_2024  cnn_2029  \\\n",
       "6/10-23-14/11-16-17  0.438078 -0.726048 -0.575115 -0.408219  0.634305   \n",
       "7/4-10-12/5-28-15   -0.192634 -0.251353  0.012194  0.065411 -0.314697   \n",
       "2/12-11-12/12-17-13 -0.470310  0.353063 -0.269360 -0.204492 -0.212497   \n",
       "24/3-11-14/8-14-14  -0.434585 -0.396457  0.555140 -0.049515  0.093676   \n",
       "24b/3-11-14/8-14-14  0.452950 -0.062897  0.363284  0.678711 -0.026908   \n",
       "32/12-17-15/1-5-17  -0.021383 -0.665304 -0.235457 -0.679874 -0.582289   \n",
       "41/1-25-11/8-7-12   -0.193529 -0.176102  0.093235  0.045863  0.294768   \n",
       "\n",
       "                     cnn_2041  cnn_2044  cnn_2047  \n",
       "6/10-23-14/11-16-17 -0.021134  0.279492 -0.104284  \n",
       "7/4-10-12/5-28-15    0.007431  0.414059 -0.030240  \n",
       "2/12-11-12/12-17-13 -1.006278 -0.234104 -0.001605  \n",
       "24/3-11-14/8-14-14   0.117561 -0.625611 -0.102479  \n",
       "24b/3-11-14/8-14-14  0.359598 -0.501149  0.406217  \n",
       "32/12-17-15/1-5-17  -0.038993  0.155165 -0.683775  \n",
       "41/1-25-11/8-7-12    0.039116  0.044953  0.465247  \n",
       "\n",
       "[7 rows x 498 columns]"
      ]
     },
     "execution_count": 31,
     "metadata": {},
     "output_type": "execute_result"
    }
   ],
   "source": [
    "X_final_test"
   ]
  },
  {
   "cell_type": "code",
   "execution_count": 2,
   "metadata": {
    "collapsed": true
   },
   "outputs": [],
   "source": [
    "\n",
    "#inputs is a map of format {name: input_file.csv}\n",
    "# NOTE only cnn input should contain y\n",
    "def construct_dataframe(inputs):\n",
    "    df_X = []\n",
    "    y = []\n",
    "    for prefix, filename in inputs.items():\n",
    "        data = pd.read_pickle(filename).drop_duplicates()\n",
    "\n",
    "        if prefix == 'cnn':\n",
    "            y = data['y']\n",
    "            data_X = data.drop('y', axis=1).add_prefix(prefix + \"_\")\n",
    "        else:\n",
    "            data_X = data.add_prefix(prefix + \"_\")\n",
    "        \n",
    "        df_X.append(data_X)\n",
    "    return pd.concat(df_X, axis=1, sort=False), y\n",
    "\n",
    "def split_train_test(X,y):\n",
    "    test_X = X.loc[utils.TEST_KEYS]\n",
    "    train_X = X.loc[X.index.difference(utils.TEST_KEYS)]\n",
    "    test_y = y.loc[utils.TEST_KEYS]\n",
    "    train_y = y.loc[y.index.difference(utils.TEST_KEYS)]\n",
    "    return train_X, train_y, test_X, test_y"
   ]
  },
  {
   "cell_type": "code",
   "execution_count": 3,
   "metadata": {
    "collapsed": false
   },
   "outputs": [
    {
     "data": {
      "text/plain": [
       "'\\nimport pickle\\nd = pd.read_pickle(\"vbow/vbow-orb-50-ensemble-full.pkl\")\\nd.index = d.index.str.replace(\".tif\", \"\")\\npickle.dump(d, open(\"vbow/vbow-orb-50-ensemble-full.pkl\", \\'wb\\'))\\n'"
      ]
     },
     "execution_count": 3,
     "metadata": {},
     "output_type": "execute_result"
    }
   ],
   "source": [
    "'''\n",
    "import pickle\n",
    "d = pd.read_pickle(\"vbow/vbow-orb-50-ensemble-full.pkl\")\n",
    "d.index = d.index.str.replace(\".tif\", \"\")\n",
    "pickle.dump(d, open(\"vbow/vbow-orb-50-ensemble-full.pkl\", 'wb'))\n",
    "'''"
   ]
  },
  {
   "cell_type": "code",
   "execution_count": 12,
   "metadata": {
    "collapsed": false
   },
   "outputs": [],
   "source": [
    "input_data = {\n",
    "    \"cnn\": \"inception/data2_inception_cnn_diff_reduced_dim_augmented.pkl\",\n",
    "    \"vbow\": \"vbow/vbow-orb-50-ensemble-full.pkl\"\n",
    "}\n",
    "X, y = construct_dataframe(input_data)\n",
    "X, y, X_final_test,y_final_test  = split_train_test(X, y)\n"
   ]
  },
  {
   "cell_type": "code",
   "execution_count": 13,
   "metadata": {
    "collapsed": true
   },
   "outputs": [],
   "source": [
    "class ColumnExtractor(TransformerMixin, BaseEstimator):\n",
    "    def __init__(self, pref):\n",
    "        self.pref = pref\n",
    "\n",
    "    def fit(self, X, y=None):\n",
    "        return self\n",
    "\n",
    "    def transform(self, X):\n",
    "        filter_cols = [col for col in X if col.startswith(self.pref)]\n",
    "        return X[filter_cols]"
   ]
  },
  {
   "cell_type": "code",
   "execution_count": 14,
   "metadata": {
    "collapsed": false
   },
   "outputs": [],
   "source": [
    "from sklearn.linear_model import LogisticRegression\n",
    "from sklearn.naive_bayes import GaussianNB\n",
    "from sklearn.ensemble import RandomForestClassifier\n",
    "from sklearn.ensemble import VotingClassifier\n",
    "\n",
    "from sklearn.linear_model import LogisticRegression\n",
    "from sklearn.svm import SVC\n",
    "\n",
    "cnn_multi = pipeline.Pipeline([\n",
    "    ('col_extract_cnn', ColumnExtractor(\"cnn_\")),\n",
    "    ('cnn_model', LogisticRegression(solver='lbfgs', penalty='l2', C= 0.1, multi_class=\"multinomial\", max_iter=3000))\n",
    "])\n",
    "\n",
    "cnn_binary = pipeline.Pipeline([\n",
    "    ('col_extract_cnn', ColumnExtractor(\"cnn_\")),\n",
    "    ('cnn_model', LogisticRegression(solver='liblinear', penalty='l2', C= 1, max_iter=3000))\n",
    "])\n",
    "\n",
    "cnn_pretrained_binary = pipeline.Pipeline([\n",
    "    ('col_extract_cnn', ColumnExtractor(\"cnn_\")),\n",
    "    ('cnn_model', pickle.load(open(\"inception/lr_binary_reduced_model_aug.pkl\",\"rb\")))\n",
    "])\n",
    "\n",
    "cnn_pretrained_multi = pipeline.Pipeline([\n",
    "    ('col_extract_cnn', ColumnExtractor(\"cnn_\")),\n",
    "    ('cnn_model', pickle.load(open(\"inception/lr_binary_reduced_model_aug_strat.pkl\",\"rb\")))\n",
    "])\n",
    "\n",
    "vbow = pipeline.Pipeline([\n",
    "    ('col_extract_vbow', ColumnExtractor(\"vbow_\")),\n",
    "    ('vbow_model', SVC(C=10, gamma=0.001, probability=True))\n",
    "])\n",
    "\n",
    "vbow_bayes = pipeline.Pipeline([\n",
    "    ('col_extract_vbow', ColumnExtractor(\"vbow_\")),\n",
    "    ('vbow_model', GaussianNB())\n",
    "])"
   ]
  },
  {
   "cell_type": "code",
   "execution_count": 15,
   "metadata": {
    "collapsed": false
   },
   "outputs": [],
   "source": [
    "eclf_binary = VotingClassifier(estimators=[('cnn',cnn_binary),('vbow', vbow)])\n",
    "eclf_multi = VotingClassifier(estimators=[('cnn',cnn_multi),('vbow', vbow)])\n",
    "\n",
    "eclf_binary_pretrained = EnsembleVoteClassifier(clfs=[('cnn',cnn_pretrained_binary),('vbow', vbow)], refit=False)\n",
    "eclf_multi_pretrained = EnsembleVoteClassifier(clfs=[('cnn',cnn_pretrained_multi),('vbow', vbow)], refit=False)"
   ]
  },
  {
   "cell_type": "code",
   "execution_count": 20,
   "metadata": {
    "collapsed": true
   },
   "outputs": [],
   "source": [
    "def train_ensemble(X, y, model, multiclass, cv=3, test_size=0.3, show_incorrect=False):\n",
    "    params = [{'voting':['soft'], 'weights': [[1,2], [1,3], [0,1],  [2,1],[3,1], [4,1]]}]\n",
    "    m = GridSearchCV(model, cv=cv, param_grid = params)\n",
    "    utils.do_CV(X,y, m, multi_class=multiclass, test_size=test_size, show_incorrect=show_incorrect)\n",
    "    return m.best_estimator_"
   ]
  },
  {
   "cell_type": "code",
   "execution_count": 27,
   "metadata": {
    "collapsed": false
   },
   "outputs": [
    {
     "name": "stdout",
     "output_type": "stream",
     "text": [
      "# Tuning hyper-parameter\n",
      "\n",
      "Best parameters set found on development set:\n",
      "\n",
      "{'voting': 'soft', 'weights': [2, 1]}\n",
      "\n",
      "Grid scores on development set:\n",
      "\n",
      "0.786 (+/-0.249) for {'voting': 'soft', 'weights': [1, 2]}\n",
      "0.750 (+/-0.249) for {'voting': 'soft', 'weights': [1, 3]}\n",
      "0.446 (+/-0.174) for {'voting': 'soft', 'weights': [0, 1]}\n",
      "0.839 (+/-0.146) for {'voting': 'soft', 'weights': [2, 1]}\n",
      "0.839 (+/-0.146) for {'voting': 'soft', 'weights': [3, 1]}\n",
      "0.839 (+/-0.146) for {'voting': 'soft', 'weights': [4, 1]}\n",
      "\n",
      "Detailed classification report:\n",
      "\n",
      "The model is trained on the full development set.\n",
      "The scores are computed on the full evaluation set.\n",
      "\n"
     ]
    },
    {
     "data": {
      "image/png": "[encoded data removed]",
      "text/plain": [
       "<Figure size 600x400 with 2 Axes>"
      ]
     },
     "metadata": {},
     "output_type": "display_data"
    },
    {
     "data": {
      "image/png": "[encoded data removed]",
      "text/plain": [
       "<Figure size 600x400 with 1 Axes>"
      ]
     },
     "metadata": {},
     "output_type": "display_data"
    },
    {
     "name": "stdout",
     "output_type": "stream",
     "text": [
      "\n",
      "This is the classification report for the eval set:\n",
      "             precision    recall  f1-score   support\n",
      "\n",
      "          I       0.64      0.90      0.75        10\n",
      "          R       0.80      0.80      0.80        10\n",
      "          S       1.00      0.20      0.33         5\n",
      "\n",
      "avg / total       0.78      0.72      0.69        25\n",
      "\n",
      "This is the classification report for the training set:\n",
      "             precision    recall  f1-score   support\n",
      "\n",
      "          I       1.00      1.00      1.00        23\n",
      "          R       1.00      1.00      1.00        23\n",
      "          S       1.00      1.00      1.00        10\n",
      "\n",
      "avg / total       1.00      1.00      1.00        56\n",
      "\n",
      "Misclassified labels\n",
      "Index(['12/5-29-12/4-16-13', '12/4-16-13/5-29-12', '12/4-16-13/5-24-14',\n",
      "       '26/3-19-15/3-10-16', '9/6-20-18/3-23-17', '9/3-9-16/3-23-17',\n",
      "       '1/8-16-12/11-20-13'],\n",
      "      dtype='object')\n",
      "Predicted class\n",
      "['I' 'R' 'R' 'R' 'R' 'R' 'R' 'I' 'R' 'R' 'I' 'R' 'R' 'I' 'R' 'R' 'I' 'R'\n",
      " 'R' 'R' 'I' 'R' 'R' 'I' 'R']\n",
      "Actual class\n",
      "12/5-29-12/4-16-13    I\n",
      "12/4-16-13/5-29-12    R\n",
      "12/4-16-13/5-24-14    S\n",
      "26/3-19-15/3-10-16    S\n",
      "9/6-20-18/3-23-17     R\n",
      "9/3-9-16/3-23-17      S\n",
      "1/8-16-12/11-20-13    S\n",
      "Name: y, dtype: object\n"
     ]
    },
    {
     "name": "stderr",
     "output_type": "stream",
     "text": [
      "/home/anna.merkoulovitch/crmo-diagnosis-using-mri/src/utils.py:142: FutureWarning: in the future, boolean array-likes will be handled as a boolean array index\n",
      "  print(model.predict(X_test)[incorrect_indices])\n"
     ]
    }
   ],
   "source": [
    "# norm cnn\n",
    "train_ensemble(X,y, eclf_multi, multiclass=True, cv=6, show_incorrect=True)"
   ]
  },
  {
   "cell_type": "code",
   "execution_count": 9,
   "metadata": {
    "collapsed": false
   },
   "outputs": [
    {
     "name": "stdout",
     "output_type": "stream",
     "text": [
      "# Tuning hyper-parameter\n",
      "\n",
      "Best parameters set found on development set:\n",
      "\n",
      "{'voting': 'soft', 'weights': [1, 0]}\n",
      "\n",
      "Grid scores on development set:\n",
      "\n",
      "0.768 (+/-0.218) for {'voting': 'soft', 'weights': [1, 2]}\n",
      "0.696 (+/-0.243) for {'voting': 'soft', 'weights': [1, 3]}\n",
      "0.464 (+/-0.256) for {'voting': 'soft', 'weights': [0, 1]}\n",
      "0.839 (+/-0.188) for {'voting': 'soft', 'weights': [1, 0]}\n",
      "0.839 (+/-0.188) for {'voting': 'soft', 'weights': [2, 1]}\n",
      "0.839 (+/-0.188) for {'voting': 'soft', 'weights': [3, 1]}\n",
      "0.839 (+/-0.188) for {'voting': 'soft', 'weights': [4, 1]}\n",
      "\n",
      "Detailed classification report:\n",
      "\n",
      "The model is trained on the full development set.\n",
      "The scores are computed on the full evaluation set.\n",
      "\n"
     ]
    },
    {
     "data": {
      "image/png": "[encoded data removed]",
      "text/plain": [
       "<Figure size 600x400 with 2 Axes>"
      ]
     },
     "metadata": {},
     "output_type": "display_data"
    },
    {
     "data": {
      "image/png": "[encoded data removed]",
      "text/plain": [
       "<Figure size 600x400 with 1 Axes>"
      ]
     },
     "metadata": {},
     "output_type": "display_data"
    },
    {
     "name": "stdout",
     "output_type": "stream",
     "text": [
      "\n",
      "This is the classification report for the eval set:\n",
      "             precision    recall  f1-score   support\n",
      "\n",
      "          I       0.58      0.70      0.64        10\n",
      "          R       0.64      0.70      0.67        10\n",
      "          S       0.00      0.00      0.00         5\n",
      "\n",
      "avg / total       0.49      0.56      0.52        25\n",
      "\n",
      "This is the classification report for the training set:\n",
      "             precision    recall  f1-score   support\n",
      "\n",
      "          I       1.00      1.00      1.00        23\n",
      "          R       1.00      1.00      1.00        23\n",
      "          S       1.00      1.00      1.00        10\n",
      "\n",
      "avg / total       1.00      1.00      1.00        56\n",
      "\n",
      "Misclassified labels\n",
      "Index(['12/5-29-12/4-16-13', '35/10-15-15/9-4-14', '7b/4-10-12/5-28-15',\n",
      "       '12/4-16-13/5-29-12', '12/4-16-13/5-24-14', '12/4-16-13/3-13-15',\n",
      "       '26/3-19-15/3-10-16', '10/11-7-12/9-22-16', '9/3-9-16/3-23-17',\n",
      "       '7b/5-28-15/4-10-12', '1/8-16-12/11-20-13'],\n",
      "      dtype='object')\n",
      "Predicted class\n",
      "['I' 'R' 'I' 'R' 'I' 'R' 'R' 'I' 'R' 'R' 'I' 'I' 'R' 'I' 'R' 'R' 'R' 'I'\n",
      " 'R' 'R' 'I' 'R' 'I' 'I' 'R']\n",
      "Actual class\n",
      "12/5-29-12/4-16-13    I\n",
      "35/10-15-15/9-4-14    R\n",
      "7b/4-10-12/5-28-15    I\n",
      "12/4-16-13/5-29-12    R\n",
      "12/4-16-13/5-24-14    S\n",
      "12/4-16-13/3-13-15    S\n",
      "26/3-19-15/3-10-16    S\n",
      "10/11-7-12/9-22-16    I\n",
      "9/3-9-16/3-23-17      S\n",
      "7b/5-28-15/4-10-12    R\n",
      "1/8-16-12/11-20-13    S\n",
      "Name: y, dtype: object\n"
     ]
    },
    {
     "name": "stderr",
     "output_type": "stream",
     "text": [
      "/home/anna.merkoulovitch/crmo-diagnosis-using-mri/src/utils.py:142: FutureWarning: in the future, boolean array-likes will be handled as a boolean array index\n",
      "  print(model.predict(X_test)[incorrect_indices])\n"
     ]
    },
    {
     "data": {
      "text/plain": [
       "VotingClassifier(estimators=[('cnn', Pipeline(steps=[('col_extract_cnn', ColumnExtractor(pref='cnn_')), ('cnn_model', LogisticRegression(C=0.1, class_weight=None, dual=False, fit_intercept=True,\n",
       "          intercept_scaling=1, max_iter=3000, multi_class='multinomial',\n",
       "          n_jobs=1, penalty='l2', random_state=No...  max_iter=-1, probability=True, random_state=None, shrinking=True,\n",
       "  tol=0.001, verbose=False))]))],\n",
       "         n_jobs=1, voting='soft', weights=[1, 0])"
      ]
     },
     "execution_count": 9,
     "metadata": {},
     "output_type": "execute_result"
    }
   ],
   "source": [
    "train_ensemble(X,y, eclf_multi, multiclass=True, cv=6, show_incorrect=True)"
   ]
  },
  {
   "cell_type": "code",
   "execution_count": 26,
   "metadata": {
    "collapsed": false
   },
   "outputs": [
    {
     "name": "stdout",
     "output_type": "stream",
     "text": [
      "# Tuning hyper-parameter\n",
      "\n",
      "Best parameters set found on development set:\n",
      "\n",
      "{'voting': 'soft', 'weights': [2, 1]}\n",
      "\n",
      "Grid scores on development set:\n",
      "\n",
      "0.857 (+/-0.218) for {'voting': 'soft', 'weights': [1, 2]}\n",
      "0.821 (+/-0.246) for {'voting': 'soft', 'weights': [1, 3]}\n",
      "0.518 (+/-0.099) for {'voting': 'soft', 'weights': [0, 1]}\n",
      "0.875 (+/-0.142) for {'voting': 'soft', 'weights': [2, 1]}\n",
      "0.875 (+/-0.142) for {'voting': 'soft', 'weights': [3, 1]}\n",
      "0.875 (+/-0.142) for {'voting': 'soft', 'weights': [4, 1]}\n",
      "\n",
      "Detailed classification report:\n",
      "\n",
      "The model is trained on the full development set.\n",
      "The scores are computed on the full evaluation set.\n",
      "\n"
     ]
    },
    {
     "data": {
      "image/png": "[encoded data removed]",
      "text/plain": [
       "<Figure size 600x400 with 2 Axes>"
      ]
     },
     "metadata": {},
     "output_type": "display_data"
    },
    {
     "name": "stdout",
     "output_type": "stream",
     "text": [
      "ROC AUC score\n",
      "0.926666666667\n"
     ]
    },
    {
     "data": {
      "image/png": "[encoded data removed]",
      "text/plain": [
       "<Figure size 600x400 with 1 Axes>"
      ]
     },
     "metadata": {},
     "output_type": "display_data"
    },
    {
     "name": "stdout",
     "output_type": "stream",
     "text": [
      "\n",
      "This is the classification report for the eval set:\n",
      "             precision    recall  f1-score   support\n",
      "\n",
      "          I       0.82      0.90      0.86        10\n",
      "         SR       0.93      0.87      0.90        15\n",
      "\n",
      "avg / total       0.88      0.88      0.88        25\n",
      "\n",
      "This is the classification report for the training set:\n",
      "             precision    recall  f1-score   support\n",
      "\n",
      "          I       1.00      1.00      1.00        23\n",
      "         SR       1.00      1.00      1.00        33\n",
      "\n",
      "avg / total       1.00      1.00      1.00        56\n",
      "\n",
      "Misclassified labels\n",
      "Index(['7b/5-28-15/4-10-12', '7b/4-10-12/5-28-15', '1/11-20-13/10-06-14'], dtype='object')\n",
      "Predicted class\n",
      "['I' 'I' 'I' 'I' 'I' 'I' 'I' 'I' 'I' 'I' 'I' 'I' 'I' 'I' 'I' 'I' 'I' 'I'\n",
      " 'I' 'I' 'I' 'I' 'I' 'I' 'I']\n",
      "Actual class\n",
      "7b/5-28-15/4-10-12     SR\n",
      "7b/4-10-12/5-28-15      I\n",
      "1/11-20-13/10-06-14    SR\n",
      "Name: y, dtype: object\n"
     ]
    },
    {
     "name": "stderr",
     "output_type": "stream",
     "text": [
      "/home/anna.merkoulovitch/crmo-diagnosis-using-mri/src/utils.py:142: FutureWarning: in the future, boolean array-likes will be handled as a boolean array index\n",
      "  print(model.predict(X_test)[incorrect_indices])\n"
     ]
    },
    {
     "data": {
      "text/plain": [
       "VotingClassifier(estimators=[('cnn', Pipeline(steps=[('col_extract_cnn', ColumnExtractor(pref='cnn_')), ('cnn_model', LogisticRegression(C=1, class_weight=None, dual=False, fit_intercept=True,\n",
       "          intercept_scaling=1, max_iter=3000, multi_class='ovr', n_jobs=1,\n",
       "          penalty='l2', random_state=None, solver...  max_iter=-1, probability=True, random_state=None, shrinking=True,\n",
       "  tol=0.001, verbose=False))]))],\n",
       "         n_jobs=1, voting='soft', weights=[2, 1])"
      ]
     },
     "execution_count": 26,
     "metadata": {},
     "output_type": "execute_result"
    }
   ],
   "source": [
    "# norm cnn\n",
    "train_ensemble(X,y, eclf_binary, multiclass=False, cv=6, show_incorrect=True)"
   ]
  },
  {
   "cell_type": "code",
   "execution_count": 11,
   "metadata": {
    "collapsed": false
   },
   "outputs": [
    {
     "name": "stdout",
     "output_type": "stream",
     "text": [
      "# Tuning hyper-parameter\n",
      "\n",
      "Best parameters set found on development set:\n",
      "\n",
      "{'voting': 'soft', 'weights': [1, 0]}\n",
      "\n",
      "Grid scores on development set:\n",
      "\n",
      "0.821 (+/-0.243) for {'voting': 'soft', 'weights': [1, 2]}\n",
      "0.750 (+/-0.213) for {'voting': 'soft', 'weights': [1, 3]}\n",
      "0.518 (+/-0.099) for {'voting': 'soft', 'weights': [0, 1]}\n",
      "0.839 (+/-0.132) for {'voting': 'soft', 'weights': [1, 0]}\n",
      "0.839 (+/-0.109) for {'voting': 'soft', 'weights': [2, 1]}\n",
      "0.839 (+/-0.132) for {'voting': 'soft', 'weights': [3, 1]}\n",
      "0.839 (+/-0.132) for {'voting': 'soft', 'weights': [4, 1]}\n",
      "\n",
      "Detailed classification report:\n",
      "\n",
      "The model is trained on the full development set.\n",
      "The scores are computed on the full evaluation set.\n",
      "\n"
     ]
    },
    {
     "data": {
      "image/png": "[encoded data removed]",
      "text/plain": [
       "<Figure size 600x400 with 2 Axes>"
      ]
     },
     "metadata": {},
     "output_type": "display_data"
    },
    {
     "name": "stdout",
     "output_type": "stream",
     "text": [
      "ROC AUC score\n",
      "0.966666666667\n"
     ]
    },
    {
     "data": {
      "image/png": "[encoded data removed]",
      "text/plain": [
       "<Figure size 600x400 with 1 Axes>"
      ]
     },
     "metadata": {},
     "output_type": "display_data"
    },
    {
     "name": "stdout",
     "output_type": "stream",
     "text": [
      "\n",
      "This is the classification report for the eval set:\n",
      "             precision    recall  f1-score   support\n",
      "\n",
      "          I       0.75      0.90      0.82        10\n",
      "         SR       0.92      0.80      0.86        15\n",
      "\n",
      "avg / total       0.85      0.84      0.84        25\n",
      "\n",
      "This is the classification report for the training set:\n",
      "             precision    recall  f1-score   support\n",
      "\n",
      "          I       1.00      1.00      1.00        23\n",
      "         SR       1.00      1.00      1.00        33\n",
      "\n",
      "avg / total       1.00      1.00      1.00        56\n",
      "\n",
      "Misclassified labels\n",
      "Index(['7b/5-28-15/4-10-12', '7b/4-10-12/5-28-15', '35/10-15-15/12-28-17',\n",
      "       '1/11-20-13/10-06-14'],\n",
      "      dtype='object')\n",
      "Predicted class\n",
      "['I' 'I' 'I' 'I' 'I' 'I' 'I' 'I' 'I' 'I' 'I' 'I' 'I' 'I' 'I' 'I' 'I' 'I'\n",
      " 'I' 'I' 'I' 'I' 'I' 'I' 'I']\n",
      "Actual class\n",
      "7b/5-28-15/4-10-12      SR\n",
      "7b/4-10-12/5-28-15       I\n",
      "35/10-15-15/12-28-17    SR\n",
      "1/11-20-13/10-06-14     SR\n",
      "Name: y, dtype: object\n"
     ]
    },
    {
     "name": "stderr",
     "output_type": "stream",
     "text": [
      "/home/anna.merkoulovitch/crmo-diagnosis-using-mri/src/utils.py:142: FutureWarning: in the future, boolean array-likes will be handled as a boolean array index\n",
      "  print(model.predict(X_test)[incorrect_indices])\n"
     ]
    },
    {
     "data": {
      "text/plain": [
       "VotingClassifier(estimators=[('cnn', Pipeline(steps=[('col_extract_cnn', ColumnExtractor(pref='cnn_')), ('cnn_model', LogisticRegression(C=1, class_weight=None, dual=False, fit_intercept=True,\n",
       "          intercept_scaling=1, max_iter=3000, multi_class='ovr', n_jobs=1,\n",
       "          penalty='l2', random_state=None, solver...  max_iter=-1, probability=True, random_state=None, shrinking=True,\n",
       "  tol=0.001, verbose=False))]))],\n",
       "         n_jobs=1, voting='soft', weights=[1, 0])"
      ]
     },
     "execution_count": 11,
     "metadata": {},
     "output_type": "execute_result"
    }
   ],
   "source": [
    "train_ensemble(X,y, eclf_binary, multiclass=False, cv=6, show_incorrect=True)"
   ]
  },
  {
   "cell_type": "code",
   "execution_count": 63,
   "metadata": {
    "collapsed": false
   },
   "outputs": [
    {
     "ename": "NameError",
     "evalue": "name 'OneVsRestClassifier' is not defined",
     "output_type": "error",
     "traceback": [
      "\u001b[1;31m---------------------------------------------------------------------------\u001b[0m",
      "\u001b[1;31mNameError\u001b[0m                                 Traceback (most recent call last)",
      "\u001b[1;32m<ipython-input-63-11256ccbb1c8>\u001b[0m in \u001b[0;36m<module>\u001b[1;34m()\u001b[0m\n\u001b[0;32m     13\u001b[0m ]\n\u001b[0;32m     14\u001b[0m \u001b[1;33m\u001b[0m\u001b[0m\n\u001b[1;32m---> 15\u001b[1;33m \u001b[0mmodel_to_set\u001b[0m \u001b[1;33m=\u001b[0m \u001b[0mOneVsRestClassifier\u001b[0m\u001b[1;33m(\u001b[0m\u001b[0mSVC\u001b[0m\u001b[1;33m(\u001b[0m\u001b[1;33m)\u001b[0m\u001b[1;33m,\u001b[0m \u001b[0mn_jobs\u001b[0m\u001b[1;33m=\u001b[0m\u001b[1;33m-\u001b[0m\u001b[1;36m1\u001b[0m\u001b[1;33m)\u001b[0m\u001b[1;33m\u001b[0m\u001b[0m\n\u001b[0m\u001b[0;32m     16\u001b[0m \u001b[0mclf\u001b[0m \u001b[1;33m=\u001b[0m \u001b[0mGridSearchCV\u001b[0m\u001b[1;33m(\u001b[0m\u001b[0mmodel_to_set\u001b[0m\u001b[1;33m,\u001b[0m \u001b[0mtuned_parameters\u001b[0m\u001b[1;33m)\u001b[0m\u001b[1;33m\u001b[0m\u001b[0m\n\u001b[0;32m     17\u001b[0m \u001b[0mclf\u001b[0m\u001b[1;33m.\u001b[0m\u001b[0mfit\u001b[0m\u001b[1;33m(\u001b[0m\u001b[0mX_train\u001b[0m\u001b[1;33m,\u001b[0m \u001b[0my_train\u001b[0m\u001b[1;33m)\u001b[0m\u001b[1;33m\u001b[0m\u001b[0m\n",
      "\u001b[1;31mNameError\u001b[0m: name 'OneVsRestClassifier' is not defined"
     ]
    }
   ],
   "source": [
    "\n",
    "# this is just some extra examples of how we can train sub-models\n",
    "\n",
    "params = {'lr__C': [1.0, 100.0],\n",
    "      'svm__C': [2,3,4],}\n",
    "\n",
    "grid = GridSearchCV(estimator=eclf, param_grid=params, cv=5)\n",
    "\n",
    "\n",
    "tuned_parameters = [\n",
    "  {\n",
    "    'estimator__kernel': ['rbf'],\n",
    "    'estimator__gamma': [1e-3, 1e-4],\n",
    "    'estimator__C': [1, 10, 100, 1000]\n",
    "  },\n",
    "  {\n",
    "    'estimator__kernel': ['linear'], \n",
    "    'estimator__C': [1, 10, 100, 1000]\n",
    "  }\n",
    "]\n",
    "\n",
    "model_to_set = OneVsRestClassifier(SVC(), n_jobs=-1)\n",
    "clf = GridSearchCV(model_to_set, tuned_parameters)\n",
    "clf.fit(X_train, y_train)"
   ]
  },
  {
   "cell_type": "code",
   "execution_count": null,
   "metadata": {
    "collapsed": true
   },
   "outputs": [],
   "source": []
  }
 ],
 "metadata": {
  "kernelspec": {
   "display_name": "Python 3",
   "language": "python",
   "name": "python3"
  },
  "language_info": {
   "codemirror_mode": {
    "name": "ipython",
    "version": 3
   },
   "file_extension": ".py",
   "mimetype": "text/x-python",
   "name": "python",
   "nbconvert_exporter": "python",
   "pygments_lexer": "ipython3",
   "version": "3.5.4"
  }
 },
 "nbformat": 4,
 "nbformat_minor": 0
}
