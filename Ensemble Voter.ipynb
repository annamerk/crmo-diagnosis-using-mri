{
 "cells": [
  {
   "cell_type": "code",
   "execution_count": 1,
   "metadata": {
    "collapsed": false
   },
   "outputs": [],
   "source": [
    "from sklearn.ensemble import VotingClassifier\n",
    "import pandas as pd\n",
    "import matplotlib.pyplot as plt\n",
    "import numpy as np\n",
    "from sklearn import pipeline\n",
    "import pickle\n",
    "%matplotlib inline\n",
    "from sklearn.model_selection import train_test_split,GridSearchCV\n",
    "from sklearn.base import TransformerMixin, BaseEstimator\n",
    "from mlxtend.classifier import EnsembleVoteClassifier\n",
    "\n",
    "import src.utils as utils"
   ]
  },
  {
   "cell_type": "code",
   "execution_count": 2,
   "metadata": {
    "collapsed": true
   },
   "outputs": [],
   "source": [
    "\n",
    "#inputs is a map of format {name: input_file.csv}\n",
    "# NOTE only cnn input should contain y\n",
    "def construct_dataframe(inputs):\n",
    "    df_X = []\n",
    "    y = []\n",
    "    for prefix, filename in inputs.items():\n",
    "        data = pd.read_pickle(filename).drop_duplicates()\n",
    "\n",
    "        if prefix == 'cnn':\n",
    "            y = data['y']\n",
    "            data_X = data.drop('y', axis=1).add_prefix(prefix + \"_\")\n",
    "        else:\n",
    "            data_X = data.add_prefix(prefix + \"_\")\n",
    "        \n",
    "        df_X.append(data_X)\n",
    "    return pd.concat(df_X, axis=1, sort=False), y\n",
    "\n",
    "def split_train_test(X,y):\n",
    "    test_X = X.loc[utils.TEST_KEYS]\n",
    "    train_X = X.loc[X.index.difference(utils.TEST_KEYS)]\n",
    "    test_y = y.loc[utils.TEST_KEYS]\n",
    "    train_y = y.loc[y.index.difference(utils.TEST_KEYS)]\n",
    "    return train_X, train_y, test_X, test_y"
   ]
  },
  {
   "cell_type": "code",
   "execution_count": 3,
   "metadata": {
    "collapsed": false
   },
   "outputs": [
    {
     "data": {
      "text/plain": [
       "'\\nimport pickle\\nd = pd.read_pickle(\"vbow/vbow-orb-50-ensemble-full.pkl\")\\nd.index = d.index.str.replace(\".tif\", \"\")\\npickle.dump(d, open(\"vbow/vbow-orb-50-ensemble-full.pkl\", \\'wb\\'))\\n'"
      ]
     },
     "execution_count": 3,
     "metadata": {},
     "output_type": "execute_result"
    }
   ],
   "source": [
    "'''\n",
    "import pickle\n",
    "d = pd.read_pickle(\"vbow/vbow-orb-50-ensemble-full.pkl\")\n",
    "d.index = d.index.str.replace(\".tif\", \"\")\n",
    "pickle.dump(d, open(\"vbow/vbow-orb-50-ensemble-full.pkl\", 'wb'))\n",
    "'''"
   ]
  },
  {
   "cell_type": "code",
   "execution_count": 4,
   "metadata": {
    "collapsed": false
   },
   "outputs": [],
   "source": [
    "input_data = {\n",
    "    \"cnn\": \"inception/data_inception_cnn_diff_reduced_dim_augmented.pkl\",\n",
    "    \"vbow\": \"vbow/vbow-orb-50-ensemble-full.pkl\"\n",
    "}\n",
    "X, y = construct_dataframe(input_data)\n",
    "X, y, X_final_test,y_final_test  = split_train_test(X, y)\n"
   ]
  },
  {
   "cell_type": "code",
   "execution_count": 5,
   "metadata": {
    "collapsed": true
   },
   "outputs": [],
   "source": [
    "class ColumnExtractor(TransformerMixin, BaseEstimator):\n",
    "    def __init__(self, pref):\n",
    "        self.pref = pref\n",
    "\n",
    "    def fit(self, X, y=None):\n",
    "        return self\n",
    "\n",
    "    def transform(self, X):\n",
    "        filter_cols = [col for col in X if col.startswith(self.pref)]\n",
    "        return X[filter_cols]"
   ]
  },
  {
   "cell_type": "code",
   "execution_count": 6,
   "metadata": {
    "collapsed": false
   },
   "outputs": [],
   "source": [
    "from sklearn.linear_model import LogisticRegression\n",
    "from sklearn.naive_bayes import GaussianNB\n",
    "from sklearn.ensemble import RandomForestClassifier\n",
    "from sklearn.ensemble import VotingClassifier\n",
    "\n",
    "from sklearn.linear_model import LogisticRegression\n",
    "from sklearn.svm import SVC\n",
    "\n",
    "cnn_multi = pipeline.Pipeline([\n",
    "    ('col_extract_cnn', ColumnExtractor(\"cnn_\")),\n",
    "    ('cnn_model', LogisticRegression(solver='lbfgs', penalty='l2', C= 0.1, multi_class=\"multinomial\", max_iter=3000))\n",
    "])\n",
    "\n",
    "cnn_binary = pipeline.Pipeline([\n",
    "    ('col_extract_cnn', ColumnExtractor(\"cnn_\")),\n",
    "    ('cnn_model', LogisticRegression(solver='liblinear', penalty='l2', C= 1, max_iter=3000))\n",
    "])\n",
    "\n",
    "cnn_pretrained_binary = pipeline.Pipeline([\n",
    "    ('col_extract_cnn', ColumnExtractor(\"cnn_\")),\n",
    "    ('cnn_model', pickle.load(open(\"inception/lr_binary_reduced_model_aug.pkl\",\"rb\")))\n",
    "])\n",
    "\n",
    "cnn_pretrained_multi = pipeline.Pipeline([\n",
    "    ('col_extract_cnn', ColumnExtractor(\"cnn_\")),\n",
    "    ('cnn_model', pickle.load(open(\"inception/lr_binary_reduced_model_aug_strat.pkl\",\"rb\")))\n",
    "])\n",
    "\n",
    "vbow = pipeline.Pipeline([\n",
    "    ('col_extract_vbow', ColumnExtractor(\"vbow_\")),\n",
    "    ('vbow_model', SVC(C=10, gamma=0.001, probability=True))\n",
    "])\n",
    "\n",
    "vbow_bayes = pipeline.Pipeline([\n",
    "    ('col_extract_vbow', ColumnExtractor(\"vbow_\")),\n",
    "    ('vbow_model', GaussianNB())\n",
    "])"
   ]
  },
  {
   "cell_type": "code",
   "execution_count": 7,
   "metadata": {
    "collapsed": false
   },
   "outputs": [],
   "source": [
    "eclf_binary = VotingClassifier(estimators=[('cnn',cnn_binary),('vbow', vbow)])\n",
    "eclf_multi = VotingClassifier(estimators=[('cnn',cnn_multi),('vbow', vbow)])\n",
    "\n",
    "eclf_binary_pretrained = EnsembleVoteClassifier(clfs=[('cnn',cnn_pretrained_binary),('vbow', vbow)], refit=False)\n",
    "eclf_multi_pretrained = EnsembleVoteClassifier(clfs=[('cnn',cnn_pretrained_multi),('vbow', vbow)], refit=False)"
   ]
  },
  {
   "cell_type": "code",
   "execution_count": 8,
   "metadata": {
    "collapsed": true
   },
   "outputs": [],
   "source": [
    "def train_ensemble(X, y, model, multiclass, cv=3, test_size=0.3, show_incorrect=False):\n",
    "    params = [{'voting':['soft'], 'weights': [[1,2], [1,3], [0,1], [1,0], [2,1],[3,1], [4,1]]}]\n",
    "    m = GridSearchCV(model, cv=cv, param_grid = params)\n",
    "    utils.do_CV(X,y, m, multi_class=multiclass, test_size=test_size, show_incorrect=show_incorrect)\n",
    "    return m.best_estimator_"
   ]
  },
  {
   "cell_type": "code",
   "execution_count": 9,
   "metadata": {
    "collapsed": false
   },
   "outputs": [
    {
     "name": "stdout",
     "output_type": "stream",
     "text": [
      "# Tuning hyper-parameter\n",
      "\n",
      "Best parameters set found on development set:\n",
      "\n",
      "{'voting': 'soft', 'weights': [1, 0]}\n",
      "\n",
      "Grid scores on development set:\n",
      "\n",
      "0.768 (+/-0.218) for {'voting': 'soft', 'weights': [1, 2]}\n",
      "0.696 (+/-0.243) for {'voting': 'soft', 'weights': [1, 3]}\n",
      "0.464 (+/-0.256) for {'voting': 'soft', 'weights': [0, 1]}\n",
      "0.839 (+/-0.188) for {'voting': 'soft', 'weights': [1, 0]}\n",
      "0.839 (+/-0.188) for {'voting': 'soft', 'weights': [2, 1]}\n",
      "0.839 (+/-0.188) for {'voting': 'soft', 'weights': [3, 1]}\n",
      "0.839 (+/-0.188) for {'voting': 'soft', 'weights': [4, 1]}\n",
      "\n",
      "Detailed classification report:\n",
      "\n",
      "The model is trained on the full development set.\n",
      "The scores are computed on the full evaluation set.\n",
      "\n"
     ]
    },
    {
     "data": {
      "image/png": "[encoded data removed]",
      "text/plain": [
       "<Figure size 600x400 with 2 Axes>"
      ]
     },
     "metadata": {},
     "output_type": "display_data"
    },
    {
     "data": {
      "image/png": "[encoded data removed]",
      "text/plain": [
       "<Figure size 600x400 with 1 Axes>"
      ]
     },
     "metadata": {},
     "output_type": "display_data"
    },
    {
     "name": "stdout",
     "output_type": "stream",
     "text": [
      "\n",
      "This is the classification report for the eval set:\n",
      "             precision    recall  f1-score   support\n",
      "\n",
      "          I       0.58      0.70      0.64        10\n",
      "          R       0.64      0.70      0.67        10\n",
      "          S       0.00      0.00      0.00         5\n",
      "\n",
      "avg / total       0.49      0.56      0.52        25\n",
      "\n",
      "This is the classification report for the training set:\n",
      "             precision    recall  f1-score   support\n",
      "\n",
      "          I       1.00      1.00      1.00        23\n",
      "          R       1.00      1.00      1.00        23\n",
      "          S       1.00      1.00      1.00        10\n",
      "\n",
      "avg / total       1.00      1.00      1.00        56\n",
      "\n",
      "Misclassified labels\n",
      "Index(['12/5-29-12/4-16-13', '35/10-15-15/9-4-14', '7b/4-10-12/5-28-15',\n",
      "       '12/4-16-13/5-29-12', '12/4-16-13/5-24-14', '12/4-16-13/3-13-15',\n",
      "       '26/3-19-15/3-10-16', '10/11-7-12/9-22-16', '9/3-9-16/3-23-17',\n",
      "       '7b/5-28-15/4-10-12', '1/8-16-12/11-20-13'],\n",
      "      dtype='object')\n",
      "Predicted class\n",
      "['I' 'R' 'I' 'R' 'I' 'R' 'R' 'I' 'R' 'R' 'I' 'I' 'R' 'I' 'R' 'R' 'R' 'I'\n",
      " 'R' 'R' 'I' 'R' 'I' 'I' 'R']\n",
      "Actual class\n",
      "12/5-29-12/4-16-13    I\n",
      "35/10-15-15/9-4-14    R\n",
      "7b/4-10-12/5-28-15    I\n",
      "12/4-16-13/5-29-12    R\n",
      "12/4-16-13/5-24-14    S\n",
      "12/4-16-13/3-13-15    S\n",
      "26/3-19-15/3-10-16    S\n",
      "10/11-7-12/9-22-16    I\n",
      "9/3-9-16/3-23-17      S\n",
      "7b/5-28-15/4-10-12    R\n",
      "1/8-16-12/11-20-13    S\n",
      "Name: y, dtype: object\n"
     ]
    },
    {
     "name": "stderr",
     "output_type": "stream",
     "text": [
      "/home/anna.merkoulovitch/crmo-diagnosis-using-mri/src/utils.py:142: FutureWarning: in the future, boolean array-likes will be handled as a boolean array index\n",
      "  print(model.predict(X_test)[incorrect_indices])\n"
     ]
    },
    {
     "data": {
      "text/plain": [
       "VotingClassifier(estimators=[('cnn', Pipeline(steps=[('col_extract_cnn', ColumnExtractor(pref='cnn_')), ('cnn_model', LogisticRegression(C=0.1, class_weight=None, dual=False, fit_intercept=True,\n",
       "          intercept_scaling=1, max_iter=3000, multi_class='multinomial',\n",
       "          n_jobs=1, penalty='l2', random_state=No...  max_iter=-1, probability=True, random_state=None, shrinking=True,\n",
       "  tol=0.001, verbose=False))]))],\n",
       "         n_jobs=1, voting='soft', weights=[1, 0])"
      ]
     },
     "execution_count": 9,
     "metadata": {},
     "output_type": "execute_result"
    }
   ],
   "source": [
    "train_ensemble(X,y, eclf_multi, multiclass=True, cv=6, show_incorrect=True)"
   ]
  },
  {
   "cell_type": "code",
   "execution_count": 11,
   "metadata": {
    "collapsed": false
   },
   "outputs": [
    {
     "name": "stdout",
     "output_type": "stream",
     "text": [
      "# Tuning hyper-parameter\n",
      "\n",
      "Best parameters set found on development set:\n",
      "\n",
      "{'voting': 'soft', 'weights': [1, 0]}\n",
      "\n",
      "Grid scores on development set:\n",
      "\n",
      "0.821 (+/-0.243) for {'voting': 'soft', 'weights': [1, 2]}\n",
      "0.750 (+/-0.213) for {'voting': 'soft', 'weights': [1, 3]}\n",
      "0.518 (+/-0.099) for {'voting': 'soft', 'weights': [0, 1]}\n",
      "0.839 (+/-0.132) for {'voting': 'soft', 'weights': [1, 0]}\n",
      "0.839 (+/-0.109) for {'voting': 'soft', 'weights': [2, 1]}\n",
      "0.839 (+/-0.132) for {'voting': 'soft', 'weights': [3, 1]}\n",
      "0.839 (+/-0.132) for {'voting': 'soft', 'weights': [4, 1]}\n",
      "\n",
      "Detailed classification report:\n",
      "\n",
      "The model is trained on the full development set.\n",
      "The scores are computed on the full evaluation set.\n",
      "\n"
     ]
    },
    {
     "data": {
      "image/png": "[encoded data removed]",
      "text/plain": [
       "<Figure size 600x400 with 2 Axes>"
      ]
     },
     "metadata": {},
     "output_type": "display_data"
    },
    {
     "name": "stdout",
     "output_type": "stream",
     "text": [
      "ROC AUC score\n",
      "0.966666666667\n"
     ]
    },
    {
     "data": {
      "image/png": "[encoded data removed]",
      "text/plain": [
       "<Figure size 600x400 with 1 Axes>"
      ]
     },
     "metadata": {},
     "output_type": "display_data"
    },
    {
     "name": "stdout",
     "output_type": "stream",
     "text": [
      "\n",
      "This is the classification report for the eval set:\n",
      "             precision    recall  f1-score   support\n",
      "\n",
      "          I       0.75      0.90      0.82        10\n",
      "         SR       0.92      0.80      0.86        15\n",
      "\n",
      "avg / total       0.85      0.84      0.84        25\n",
      "\n",
      "This is the classification report for the training set:\n",
      "             precision    recall  f1-score   support\n",
      "\n",
      "          I       1.00      1.00      1.00        23\n",
      "         SR       1.00      1.00      1.00        33\n",
      "\n",
      "avg / total       1.00      1.00      1.00        56\n",
      "\n",
      "Misclassified labels\n",
      "Index(['7b/5-28-15/4-10-12', '7b/4-10-12/5-28-15', '35/10-15-15/12-28-17',\n",
      "       '1/11-20-13/10-06-14'],\n",
      "      dtype='object')\n",
      "Predicted class\n",
      "['I' 'I' 'I' 'I' 'I' 'I' 'I' 'I' 'I' 'I' 'I' 'I' 'I' 'I' 'I' 'I' 'I' 'I'\n",
      " 'I' 'I' 'I' 'I' 'I' 'I' 'I']\n",
      "Actual class\n",
      "7b/5-28-15/4-10-12      SR\n",
      "7b/4-10-12/5-28-15       I\n",
      "35/10-15-15/12-28-17    SR\n",
      "1/11-20-13/10-06-14     SR\n",
      "Name: y, dtype: object\n"
     ]
    },
    {
     "name": "stderr",
     "output_type": "stream",
     "text": [
      "/home/anna.merkoulovitch/crmo-diagnosis-using-mri/src/utils.py:142: FutureWarning: in the future, boolean array-likes will be handled as a boolean array index\n",
      "  print(model.predict(X_test)[incorrect_indices])\n"
     ]
    },
    {
     "data": {
      "text/plain": [
       "VotingClassifier(estimators=[('cnn', Pipeline(steps=[('col_extract_cnn', ColumnExtractor(pref='cnn_')), ('cnn_model', LogisticRegression(C=1, class_weight=None, dual=False, fit_intercept=True,\n",
       "          intercept_scaling=1, max_iter=3000, multi_class='ovr', n_jobs=1,\n",
       "          penalty='l2', random_state=None, solver...  max_iter=-1, probability=True, random_state=None, shrinking=True,\n",
       "  tol=0.001, verbose=False))]))],\n",
       "         n_jobs=1, voting='soft', weights=[1, 0])"
      ]
     },
     "execution_count": 11,
     "metadata": {},
     "output_type": "execute_result"
    }
   ],
   "source": [
    "train_ensemble(X,y, eclf_binary, multiclass=False, cv=6, show_incorrect=True)"
   ]
  },
  {
   "cell_type": "code",
   "execution_count": 63,
   "metadata": {
    "collapsed": false
   },
   "outputs": [
    {
     "ename": "NameError",
     "evalue": "name 'OneVsRestClassifier' is not defined",
     "output_type": "error",
     "traceback": [
      "\u001b[1;31m---------------------------------------------------------------------------\u001b[0m",
      "\u001b[1;31mNameError\u001b[0m                                 Traceback (most recent call last)",
      "\u001b[1;32m<ipython-input-63-11256ccbb1c8>\u001b[0m in \u001b[0;36m<module>\u001b[1;34m()\u001b[0m\n\u001b[0;32m     13\u001b[0m ]\n\u001b[0;32m     14\u001b[0m \u001b[1;33m\u001b[0m\u001b[0m\n\u001b[1;32m---> 15\u001b[1;33m \u001b[0mmodel_to_set\u001b[0m \u001b[1;33m=\u001b[0m \u001b[0mOneVsRestClassifier\u001b[0m\u001b[1;33m(\u001b[0m\u001b[0mSVC\u001b[0m\u001b[1;33m(\u001b[0m\u001b[1;33m)\u001b[0m\u001b[1;33m,\u001b[0m \u001b[0mn_jobs\u001b[0m\u001b[1;33m=\u001b[0m\u001b[1;33m-\u001b[0m\u001b[1;36m1\u001b[0m\u001b[1;33m)\u001b[0m\u001b[1;33m\u001b[0m\u001b[0m\n\u001b[0m\u001b[0;32m     16\u001b[0m \u001b[0mclf\u001b[0m \u001b[1;33m=\u001b[0m \u001b[0mGridSearchCV\u001b[0m\u001b[1;33m(\u001b[0m\u001b[0mmodel_to_set\u001b[0m\u001b[1;33m,\u001b[0m \u001b[0mtuned_parameters\u001b[0m\u001b[1;33m)\u001b[0m\u001b[1;33m\u001b[0m\u001b[0m\n\u001b[0;32m     17\u001b[0m \u001b[0mclf\u001b[0m\u001b[1;33m.\u001b[0m\u001b[0mfit\u001b[0m\u001b[1;33m(\u001b[0m\u001b[0mX_train\u001b[0m\u001b[1;33m,\u001b[0m \u001b[0my_train\u001b[0m\u001b[1;33m)\u001b[0m\u001b[1;33m\u001b[0m\u001b[0m\n",
      "\u001b[1;31mNameError\u001b[0m: name 'OneVsRestClassifier' is not defined"
     ]
    }
   ],
   "source": [
    "\n",
    "# this is just some extra examples of how we can train sub-models\n",
    "\n",
    "params = {'lr__C': [1.0, 100.0],\n",
    "      'svm__C': [2,3,4],}\n",
    "\n",
    "grid = GridSearchCV(estimator=eclf, param_grid=params, cv=5)\n",
    "\n",
    "\n",
    "tuned_parameters = [\n",
    "  {\n",
    "    'estimator__kernel': ['rbf'],\n",
    "    'estimator__gamma': [1e-3, 1e-4],\n",
    "    'estimator__C': [1, 10, 100, 1000]\n",
    "  },\n",
    "  {\n",
    "    'estimator__kernel': ['linear'], \n",
    "    'estimator__C': [1, 10, 100, 1000]\n",
    "  }\n",
    "]\n",
    "\n",
    "model_to_set = OneVsRestClassifier(SVC(), n_jobs=-1)\n",
    "clf = GridSearchCV(model_to_set, tuned_parameters)\n",
    "clf.fit(X_train, y_train)"
   ]
  },
  {
   "cell_type": "code",
   "execution_count": null,
   "metadata": {
    "collapsed": true
   },
   "outputs": [],
   "source": []
  }
 ],
 "metadata": {
  "kernelspec": {
   "display_name": "Python 3",
   "language": "python",
   "name": "python3"
  },
  "language_info": {
   "codemirror_mode": {
    "name": "ipython",
    "version": 3
   },
   "file_extension": ".py",
   "mimetype": "text/x-python",
   "name": "python",
   "nbconvert_exporter": "python",
   "pygments_lexer": "ipython3",
   "version": "3.5.4"
  }
 },
 "nbformat": 4,
 "nbformat_minor": 0
}
